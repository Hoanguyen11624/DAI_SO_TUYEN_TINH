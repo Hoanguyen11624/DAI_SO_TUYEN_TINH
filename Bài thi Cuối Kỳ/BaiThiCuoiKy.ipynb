{
 "cells": [
  {
   "cell_type": "markdown",
   "id": "a5cc2baf",
   "metadata": {},
   "source": [
    "Cau 1"
   ]
  },
  {
   "cell_type": "code",
   "execution_count": null,
   "id": "e084c857",
   "metadata": {},
   "outputs": [
    {
     "name": "stdout",
     "output_type": "stream",
     "text": [
      "Cau a\n",
      "Tong =  [2 3 1 6]\n",
      "Tich =  [ 3 11  2 14]\n",
      "Cau b\n",
      "Tich vo huong =  -5\n",
      "Goc A =  5.477225575051661\n",
      "Goc B =  5.477225575051661\n",
      "-0.167\n",
      "99.594\n",
      "1.738\n",
      "Cau c\n",
      "CC^T =  [[ 2  1  0]\n",
      " [-1  4  2]\n",
      " [ 3 -2  5]]\n",
      "Tich CC^T =  [[14 -8 13]\n",
      " [-8 21 -2]\n",
      " [13 -2 29]]\n"
     ]
    }
   ],
   "source": [
    "import numpy as np \n",
    "from numpy.linalg import eig,norm\n",
    "import sympy as sp \n",
    "\n",
    "A = np.array([3,-2,1,4])\n",
    "B = np.array([-1,5,0,2])\n",
    "C = np.array([[2,-1,3],\n",
    "            [1,4,-2],\n",
    "            [0,2,5]])\n",
    "\n",
    "print(f\"Cau a\")\n",
    "tong = A + B\n",
    "tich = 2*A +3*B\n",
    "print(\"Tong = \",tong)\n",
    "print(\"Tich = \",tich)\n",
    "\n",
    "print(f\"Cau b\")\n",
    "np_dot = np.dot(A,B)\n",
    "print(\"Tich vo huong = \",np_dot)\n",
    "\n",
    "magnitude_A = np.linalg.norm(A)\n",
    "magnitude_B = np.linalg.norm(B)\n",
    "cos_angle = np_dot / (magnitude_A * magnitude_B)\n",
    "angle_rad = np.arccos(cos_angle)\n",
    "angle_deg = np.degrees(angle_rad)\n",
    "print(\"Goc A = \", magnitude_A)\n",
    "print(\"Goc B = \", magnitude_B)\n",
    "print(round(cos_angle,3))\n",
    "print(round(angle_deg,3))\n",
    "print(round(angle_rad,3))\n",
    "\n",
    "print(f\"Cau c\")\n",
    "C_transpose = C.T\n",
    "print(\"CC^T = \",C_transpose)\n",
    "tinh_tich_CC_T = np.dot(C,C_transpose)\n",
    "print(\"Tich CC^T = \",tinh_tich_CC_T)\n",
    "\n"
   ]
  },
  {
   "cell_type": "markdown",
   "id": "db7590d0",
   "metadata": {},
   "source": [
    "Cau 2"
   ]
  },
  {
   "cell_type": "code",
   "execution_count": 21,
   "id": "5e9c6a36",
   "metadata": {},
   "outputs": [
    {
     "name": "stdout",
     "output_type": "stream",
     "text": [
      "Cau a\n",
      "Tich ma tran M_N =  [[ -2  13   0  -5]\n",
      " [  2   0  12  30]\n",
      " [ 17   7  28 -14]\n",
      " [-13   3   5  15]]\n",
      "Cau b\n",
      "det_M =  409.0\n",
      "M kha nghich\n",
      "Cau c\n",
      "rank_N =  4\n"
     ]
    }
   ],
   "source": [
    "M = np.array([[2,-1,3,0],\n",
    "                [1,4,-2,5],\n",
    "                [0,2,6,-3],\n",
    "                [-1,0,1,4]])\n",
    "N = np.array([[1,3,-2,0],\n",
    "                [4,-1,5,2],\n",
    "                [0,2,3,-1],\n",
    "                [-3,1,0,4]])\n",
    "\n",
    "print(f'Cau a')\n",
    "tich_M_N = np.dot(M,N)\n",
    "print(\"Tich ma tran M_N = \",tich_M_N)\n",
    "\n",
    "print(f'Cau b')\n",
    "det_M = np.linalg.det(M)\n",
    "print(\"det_M = \",round(det_M,1))\n",
    "if abs(det_M) > 0.0001:\n",
    "    print(\"M kha nghich\")\n",
    "else:\n",
    "    print(\"M ko kha nghich\")\n",
    "print(f\"Cau c\")\n",
    "rank_N = np.linalg.matrix_rank(N)\n",
    "print(\"rank_N = \",rank_N)"
   ]
  },
  {
   "cell_type": "markdown",
   "id": "05c99011",
   "metadata": {},
   "source": [
    "Cau 3"
   ]
  },
  {
   "cell_type": "code",
   "execution_count": 27,
   "id": "79619de9",
   "metadata": {},
   "outputs": [
    {
     "name": "stdout",
     "output_type": "stream",
     "text": [
      "Cau a\n",
      "P kha nghich\n",
      "P^(-1) = \n",
      "  [0.5, 0.1, 0.1, -0.3]\n",
      "  [-0.1429, 0.2, 0.0571, 0.1143]\n",
      "  [-0.0357, -0.05, 0.1643, 0.0786]\n",
      "  [-0.3214, -0.05, -0.1214, 0.5071]\n",
      "Cau b\n",
      "Nghiem: \n",
      "x =  2.0\n",
      "y =  1.7143\n",
      "z =  0.4286\n",
      "w =  0.8571\n",
      "   2x + y + w = 6.0 (phải = 6)\n",
      "   3y + z - w = 8.0 (phải = 8)\n",
      "   x + 4z + 2w = 3.0 (phải = 3)\n",
      "   y + 3w = 7.0 (phải = 7)\n",
      "P khả nghịch\n"
     ]
    }
   ],
   "source": [
    "P = np.array([[3,-1,0,2],\n",
    "                [1,4,-2,0],\n",
    "                [0,1,5,-1],\n",
    "                [2,0,1,3]])\n",
    "pt = ([6,8,3,7])\n",
    "\n",
    "print(f'Cau a')\n",
    "mtnd_P = np.linalg.det(P)\n",
    "if abs(mtnd_P) > 0.0001:\n",
    "    P_inv = np.linalg.inv(P)\n",
    "    print(f\"P kha nghich\")\n",
    "    print(f\"P^(-1) = \")\n",
    "    \n",
    "    for i in range(len(P_inv)):\n",
    "        row = []\n",
    "        for j in range(len(P_inv)):\n",
    "            row.append(round(P_inv[i][j], 4))\n",
    "        print(\" \",row)\n",
    "else:\n",
    "    print(f\"P khong kha nghich\")\n",
    "\n",
    "print(f'Cau b')\n",
    "if abs(mtnd_P) > 0.0001:\n",
    "    giai_phap = np.dot(P_inv,pt)\n",
    "    print(f\"Nghiem: \")\n",
    "    print(f\"x = \",round(giai_phap[0], 4))\n",
    "    print(f\"y = \",round(giai_phap[1], 4))\n",
    "    print(f\"z = \",round(giai_phap[2], 4))\n",
    "    print(f\"w = \",round(giai_phap[3], 4))\n",
    "#c Kiem tra\n",
    "    kt = np.dot(P, giai_phap)\n",
    "    print(\"   2x + y + w =\", round(kt[0], 4), \"(phải = 6)\")\n",
    "    print(\"   3y + z - w =\", round(kt[1], 4), \"(phải = 8)\")\n",
    "    print(\"   x + 4z + 2w =\", round(kt[2], 4), \"(phải = 3)\")\n",
    "    print(\"   y + 3w =\", round(kt[3], 4), \"(phải = 7)\")\n",
    "    print(f\"P khả nghịch\")\n",
    "else:\n",
    "    print(\"b) Không thể giải vì P không khả nghịch\")"
   ]
  },
  {
   "cell_type": "markdown",
   "id": "d7bd18fc",
   "metadata": {},
   "source": [
    "Cau 4"
   ]
  },
  {
   "cell_type": "code",
   "execution_count": null,
   "id": "68eca93b",
   "metadata": {},
   "outputs": [
    {
     "name": "stdout",
     "output_type": "stream",
     "text": [
      "Q =  [[ 5 -2  1]\n",
      " [ 0  3 -1]\n",
      " [ 2  0  4]]\n",
      "Cau a\n",
      "Gia tri rieng\n",
      "lamda1 = 6.355301+0.000000j\n",
      "lamda2 = 2.822349+1.077304j\n",
      "lamda3 = 2.822349-1.077304j\n",
      "Cau b\n",
      "Vecto rieng\n",
      "v1 = [ 0.74846013+0.j         -0.37423006+0.34234215j -0.37423006-0.34234215j]\n",
      "v2 = [-0.18941773+0.j          0.09470887+0.57433055j  0.09470887-0.57433055j]\n",
      "v3 = [0.63555359+0.j 0.63555359+0.j 0.63555359-0.j]\n"
     ]
    }
   ],
   "source": [
    "Q = np.array([[5,-2,1],[0,3,-1],[2,0,4]])\n",
    "print(\"Q = \",Q)\n",
    "\n",
    "print(f'Cau a')\n",
    "gtr,Vecto_rieng_Q = np.linalg.eig(Q)\n",
    "print(f'Gia tri rieng')\n",
    "for i, val in enumerate(gtr):\n",
    "    print(f\"lamda{i+1} = {val:.6f}\")\n",
    "\n",
    "print(f'Cau b')\n",
    "print(f'Vecto rieng')\n",
    "for i, vec in enumerate(Vecto_rieng_Q):\n",
    "    print(f'v{i+1} = {vec}')\n",
    "\n",
    "print(f'Cau c')\n"
   ]
  },
  {
   "cell_type": "markdown",
   "id": "438ee407",
   "metadata": {},
   "source": [
    "Cau 5"
   ]
  },
  {
   "cell_type": "code",
   "execution_count": 44,
   "id": "659d4bd5",
   "metadata": {},
   "outputs": [
    {
     "name": "stdout",
     "output_type": "stream",
     "text": [
      "R =  [[ 4 -1  2]\n",
      " [ 1  3 -2]\n",
      " [ 0  2  5]]\n",
      "vecto_b = [12, 5, 9]\n",
      "Nghiệm: x = [2.78823529 1.52941176 1.18823529]\n",
      "x₁ = 2.788235\n",
      "x₂ = 1.529412\n",
      "x₃ = 1.188235\n",
      "\n",
      "Kiểm tra nghiệm:\n",
      "Rx = [12.  5.  9.]\n",
      "b  = [12, 5, 9]\n",
      "Sai số ||Rx - b|| = 0.00e+00\n",
      "\n",
      "Kiểm tra từng phương trình:\n",
      "Phương trình 1: 12.000000 = 12 ✓\n",
      "Phương trình 2: 5.000000 = 5 ✓\n",
      "Phương trình 3: 9.000000 = 9 ✓\n"
     ]
    }
   ],
   "source": [
    "R = np.array([[4,-1,2],[1,3,-2],[0,2,5]])\n",
    "vecto_b = [12,5,9]\n",
    "print('R = ',R)\n",
    "print('vecto_b =',vecto_b)\n",
    "\n",
    "try:\n",
    "    x = np.linalg.solve(R, vecto_b)\n",
    "    print(f\"Nghiệm: x = {x}\")\n",
    "    print(f\"x₁ = {x[0]:.6f}\")\n",
    "    print(f\"x₂ = {x[1]:.6f}\")  \n",
    "    print(f\"x₃ = {x[2]:.6f}\")\n",
    "    print()\n",
    "    \n",
    "    # Kiểm tra nghiệm\n",
    "    print(\"Kiểm tra nghiệm:\")\n",
    "    Rx = R @ x\n",
    "    print(f\"Rx = {Rx}\")\n",
    "    print(f\"b  = {vecto_b}\")\n",
    "    print(f\"Sai số ||Rx - b|| = {np.linalg.norm(Rx - vecto_b):.2e}\")\n",
    "    \n",
    "    # Kiểm tra từng phương trình\n",
    "    print(\"\\nKiểm tra từng phương trình:\")\n",
    "    for i in range(3):\n",
    "        left_side = np.dot(R[i], x)\n",
    "        print(f\"Phương trình {i+1}: {left_side:.6f} = {vecto_b[i]} ✓\")\n",
    "        \n",
    "except np.linalg.LinAlgError as e:\n",
    "    print(f\"Lỗi: {e}\")\n",
    "    print(\"Hệ phương trình có thể không có nghiệm duy nhất\")"
   ]
  }
 ],
 "metadata": {
  "kernelspec": {
   "display_name": "Python 3",
   "language": "python",
   "name": "python3"
  },
  "language_info": {
   "codemirror_mode": {
    "name": "ipython",
    "version": 3
   },
   "file_extension": ".py",
   "mimetype": "text/x-python",
   "name": "python",
   "nbconvert_exporter": "python",
   "pygments_lexer": "ipython3",
   "version": "3.11.9"
  }
 },
 "nbformat": 4,
 "nbformat_minor": 5
}
