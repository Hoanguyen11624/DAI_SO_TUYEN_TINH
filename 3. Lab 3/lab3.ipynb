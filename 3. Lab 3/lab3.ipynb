{
 "cells": [
  {
   "cell_type": "code",
   "execution_count": 1,
   "metadata": {},
   "outputs": [],
   "source": [
    "import numpy as np\n",
    "from scipy import linalg\n",
    "import matplotlib.pyplot as plt"
   ]
  },
  {
   "attachments": {},
   "cell_type": "markdown",
   "metadata": {},
   "source": [
    "1. CÁC PHÉP XỬ LÝ MA TRẬN CƠ BẢN"
   ]
  },
  {
   "cell_type": "code",
   "execution_count": 2,
   "metadata": {},
   "outputs": [
    {
     "name": "stdout",
     "output_type": "stream",
     "text": [
      "Ma trận A:\n",
      "[[0.54455556 0.38022359]\n",
      " [0.98829554 0.24972975]]\n",
      "\n",
      "Ma trận D:\n",
      "[[4 3]\n",
      " [2 6]]\n",
      "\n",
      "Hạng của ma trận C: 5\n",
      "Định thức của A: -0.2397815590657598\n",
      "\n",
      "Ma trận nghịch đảo A.I:\n",
      "[[-1.04148855  1.58570823]\n",
      " [ 4.1216495  -2.27104855]]\n",
      "\n",
      "Ma trận nghịch đảo linalg.inv(A):\n",
      "[[-1.04148855  1.58570823]\n",
      " [ 4.1216495  -2.27104855]]\n",
      "\n",
      "Chuyển vị A.T:\n",
      "[[0.54455556 0.98829554]\n",
      " [0.38022359 0.24972975]]\n",
      "\n",
      "Cộng ma trận A + D:\n",
      "[[4.54455556 3.38022359]\n",
      " [2.98829554 6.24972975]]\n",
      "\n",
      "Nhân ma trận A @ D:\n",
      "[[2.93866944 3.91500824]\n",
      " [4.45264167 4.46326511]]\n",
      "\n",
      "Nhân element-wise np.multiply(A, D):\n",
      "[[2.17822225 1.14067078]\n",
      " [1.97659109 1.49837848]]\n"
     ]
    }
   ],
   "source": [
    "a = np.array([1, 2, 3])\n",
    "b = np.array([(1+9j, 2j, 3j), (4j, 5j, 6j)])  # số phức\n",
    "c = np.array([[(0.5, 1.5, 10), (3, 2, 1)], [(6, 5, 4), (7, 8, 9)]])\n",
    "\n",
    "# Các cách tạo ma trận khác nhau\n",
    "A = np.matrix(np.random.random((2, 2)))\n",
    "B = np.asmatrix(b)\n",
    "C = np.mat(np.random.random((10, 5)))\n",
    "D = np.mat([[4, 3], [2, 6]])\n",
    "\n",
    "# Ma trận đường chéo\n",
    "F_k1 = np.eye(3, k=1)   # đường chéo phía trên\n",
    "F_k0 = np.eye(3, k=0)   # đường chéo chính\n",
    "F_k_1 = np.eye(3, k=-1) # đường chéo phía dưới\n",
    "\n",
    "print(\"Ma trận A:\")\n",
    "print(A)\n",
    "print(\"\\nMa trận D:\")\n",
    "print(D)\n",
    "\n",
    "# Các phép xử lý cơ bản\n",
    "print(f\"\\nHạng của ma trận C: {np.linalg.matrix_rank(C)}\")\n",
    "print(f\"Định thức của A: {linalg.det(A)}\")\n",
    "\n",
    "# Ma trận nghịch đảo\n",
    "print(\"\\nMa trận nghịch đảo A.I:\")\n",
    "print(A.I)\n",
    "print(\"\\nMa trận nghịch đảo linalg.inv(A):\")\n",
    "print(linalg.inv(A))\n",
    "\n",
    "# Chuyển vị\n",
    "print(\"\\nChuyển vị A.T:\")\n",
    "print(A.T)\n",
    "\n",
    "# Các phép toán ma trận\n",
    "print(\"\\nCộng ma trận A + D:\")\n",
    "print(np.add(A, D))\n",
    "\n",
    "print(\"\\nNhân ma trận A @ D:\")\n",
    "print(A @ D)\n",
    "\n",
    "print(\"\\nNhân element-wise np.multiply(A, D):\")\n",
    "print(np.multiply(A, D))\n"
   ]
  },
  {
   "attachments": {},
   "cell_type": "markdown",
   "metadata": {},
   "source": [
    "2. BÀI TOÁN SIÊU THỊ"
   ]
  },
  {
   "cell_type": "code",
   "execution_count": null,
   "metadata": {},
   "outputs": [],
   "source": [
    "# Ma trận nhu cầu (người x sản phẩm)\n",
    "demand = np.array([\n",
    "    [6, 5, 3, 1],  # Cảnh\n",
    "    [3, 6, 2, 2],  # Nhật\n",
    "    [3, 4, 3, 1]   # Hiếu\n",
    "])\n",
    "\n",
    "# Ma trận giá (sản phẩm x siêu thị)\n",
    "prices = np.array([\n",
    "    [1.50, 1.00],  # Cồn\n",
    "    [2.00, 2.50],  # Nước rửa tay\n",
    "    [5.00, 4.50],  # Khẩu trang\n",
    "    [16.00, 17.00] # Bánh mì\n",
    "])\n",
    "\n",
    "# Tính tổng chi phí\n",
    "total_cost = demand @ prices\n",
    "print(\"Tổng chi phí mỗi người tại mỗi siêu thị:\")\n",
    "print(\"        S1      S2\")\n",
    "for i, name in enumerate(['Cảnh', 'Nhật', 'Hiếu']):\n",
    "    print(f\"{name:5}: {total_cost[i,0]:6.2f}  {total_cost[i,1]:6.2f}\")\n",
    "    cheaper = \"S1\" if total_cost[i,0] < total_cost[i,1] else \"S2\" if total_cost[i,0] > total_cost[i,1] else \"Cả hai\"\n",
    "    print(f\"      -> Nên mua tại: {cheaper}\")"
   ]
  },
  {
   "attachments": {},
   "cell_type": "markdown",
   "metadata": {},
   "source": [
    "3. MA TRẬN HỘI TỤ VÀ PHÂN KỲ"
   ]
  },
  {
   "cell_type": "code",
   "execution_count": 3,
   "metadata": {},
   "outputs": [
    {
     "name": "stdout",
     "output_type": "stream",
     "text": [
      "\n",
      "Kiểm tra ma trận A (phân kỳ):\n",
      "Ma trận gốc:\n",
      "[[0 1]\n",
      " [1 0]]\n",
      "Lũy thừa 2:\n",
      "[[1 0]\n",
      " [0 1]]\n",
      "Lũy thừa 3:\n",
      "[[0 1]\n",
      " [1 0]]\n",
      "Lũy thừa 4:\n",
      "[[1 0]\n",
      " [0 1]]\n",
      "Sau 1000 lần lặp:\n",
      "[[0 1]\n",
      " [1 0]]\n",
      "\n",
      "Kiểm tra ma trận C (hội tụ):\n",
      "Ma trận gốc:\n",
      "[[1.  0.  0. ]\n",
      " [0.  0.5 1. ]\n",
      " [0.  0.  0.5]]\n",
      "Lũy thừa 2:\n",
      "[[1.   0.   0.  ]\n",
      " [0.   0.25 1.  ]\n",
      " [0.   0.   0.25]]\n",
      "Lũy thừa 3:\n",
      "[[1.    0.    0.   ]\n",
      " [0.    0.125 0.75 ]\n",
      " [0.    0.    0.125]]\n",
      "Lũy thừa 4:\n",
      "[[1.     0.     0.    ]\n",
      " [0.     0.0625 0.5   ]\n",
      " [0.     0.     0.0625]]\n",
      "Sau 1000 lần lặp:\n",
      "[[1.00000000e+000 0.00000000e+000 0.00000000e+000]\n",
      " [0.00000000e+000 4.66631809e-302 9.34196882e-299]\n",
      " [0.00000000e+000 0.00000000e+000 4.66631809e-302]]\n"
     ]
    }
   ],
   "source": [
    "def test_matrix_convergence(matrix, name, max_iterations=10):\n",
    "    print(f\"\\nKiểm tra ma trận {name}:\")\n",
    "    print(f\"Ma trận gốc:\\n{matrix}\")\n",
    "    \n",
    "    temp = matrix.copy()\n",
    "    for i in range(max_iterations):\n",
    "        temp = temp @ matrix\n",
    "        print(f\"Lũy thừa {i+2}:\\n{temp}\")\n",
    "        if i >= 2:  # Chỉ in 3 lần đầu để tiết kiệm không gian\n",
    "            break\n",
    "    \n",
    "    # Kiểm tra hội tụ với nhiều lần lặp\n",
    "    temp = matrix.copy()\n",
    "    for i in range(1000):\n",
    "        temp = temp @ matrix\n",
    "    print(f\"Sau 1000 lần lặp:\\n{temp}\")\n",
    "\n",
    "# Ma trận phân kỳ\n",
    "A_divergent = np.array([[0, 1], [1, 0]])\n",
    "B_divergent = np.array([[0, -1], [-1, 0]])\n",
    "\n",
    "# Ma trận hội tụ\n",
    "C_convergent = np.array([[1, 0, 0], [0, 0.5, 1], [0, 0, 0.5]])\n",
    "\n",
    "test_matrix_convergence(A_divergent, \"A (phân kỳ)\", 5)\n",
    "test_matrix_convergence(C_convergent, \"C (hội tụ)\", 5)"
   ]
  },
  {
   "attachments": {},
   "cell_type": "markdown",
   "metadata": {},
   "source": [
    "4. MA TRẬN MARKOV"
   ]
  },
  {
   "cell_type": "code",
   "execution_count": null,
   "metadata": {},
   "outputs": [],
   "source": [
    "def analyze_markov_matrix(M, name, iterations=100):\n",
    "    print(f\"\\nPhân tích ma trận Markov {name}:\")\n",
    "    print(f\"Ma trận ban đầu:\\n{M}\")\n",
    "    \n",
    "    # Tính các lũy thừa đầu tiên\n",
    "    M2 = M @ M\n",
    "    M3 = M2 @ M\n",
    "    print(f\"M^2:\\n{M2}\")\n",
    "    print(f\"M^3:\\n{M3}\")\n",
    "    \n",
    "    # Tính trạng thái ổn định\n",
    "    temp = M.copy()\n",
    "    for i in range(iterations):\n",
    "        temp = temp @ M\n",
    "    \n",
    "    print(f\"Trạng thái ổn định (sau {iterations} lần):\\n{temp}\")\n",
    "    return temp\n",
    "\n",
    "# Ma trận Markov cho bài toán giày\n",
    "M_shoes = np.array([[0.8, 0.3], [0.2, 0.7]])\n",
    "steady_state = analyze_markov_matrix(M_shoes, \"giày\", 100)\n",
    "\n",
    "# Ma trận Markov đặc biệt\n",
    "M_special = np.array([[0.5, 0.5], [0.5, 0.5]])\n",
    "analyze_markov_matrix(M_special, \"đặc biệt\", 10)"
   ]
  },
  {
   "attachments": {},
   "cell_type": "markdown",
   "metadata": {},
   "source": [
    "5. PHÂN RÃ MA TRẬN LU"
   ]
  },
  {
   "cell_type": "code",
   "execution_count": null,
   "metadata": {},
   "outputs": [],
   "source": [
    "def lu_decomposition_demo(matrix, name):\n",
    "    print(f\"\\nPhân rã LU cho ma trận {name}:\")\n",
    "    print(f\"Ma trận gốc:\\n{matrix}\")\n",
    "    \n",
    "    try:\n",
    "        P, L, U = linalg.lu(matrix)\n",
    "        print(f\"Ma trận P (hoán vị):\\n{P}\")\n",
    "        print(f\"Ma trận L (tam giác dưới):\\n{L}\")\n",
    "        print(f\"Ma trận U (tam giác trên):\\n{U}\")\n",
    "        \n",
    "        # Kiểm tra P @ L @ U = A\n",
    "        reconstructed = P @ L @ U\n",
    "        print(f\"Kiểm tra P @ L @ U:\\n{reconstructed}\")\n",
    "        print(f\"Sai số: {np.max(np.abs(reconstructed - matrix))}\")\n",
    "        \n",
    "    except Exception as e:\n",
    "        print(f\"Lỗi trong phân rã LU: {e}\")\n",
    "\n",
    "# Test với các ma trận khác nhau\n",
    "test_matrices = [\n",
    "    (np.array([[2, 1], [1, 1]]), \"2x2\"),\n",
    "    (np.array([[1, 2, 3], [4, 5, 6], [7, 8, 10]]), \"3x3\"),\n",
    "    (M_shoes, \"Markov\")\n",
    "]\n",
    "\n",
    "for matrix, name in test_matrices:\n",
    "    lu_decomposition_demo(matrix, name)"
   ]
  },
  {
   "attachments": {},
   "cell_type": "markdown",
   "metadata": {},
   "source": [
    "6. BÀI TOÁN LOAN TIN"
   ]
  },
  {
   "cell_type": "code",
   "execution_count": null,
   "metadata": {},
   "outputs": [],
   "source": [
    "def analyze_communication_network(A, max_steps=5):\n",
    "    \"\"\"Phân tích mạng truyền thông tin\"\"\"\n",
    "    print(\"Ma trận kết nối ban đầu:\")\n",
    "    print(A)\n",
    "    \n",
    "    n = A.shape[0]\n",
    "    cumulative = A.copy()\n",
    "    current_power = A.copy()\n",
    "    \n",
    "    print(f\"\\nPhân tích các bước truyền tin:\")\n",
    "    for step in range(1, max_steps + 1):\n",
    "        print(f\"\\nBước {step} (A^{step}):\")\n",
    "        print(current_power)\n",
    "        \n",
    "        if step > 1:\n",
    "            cumulative += current_power\n",
    "        \n",
    "        if step < max_steps:\n",
    "            current_power = current_power @ A\n",
    "    \n",
    "    print(f\"\\nTổng số cách truyền tin từ bước 1 đến {max_steps}:\")\n",
    "    print(cumulative)\n",
    "    \n",
    "    # Phân tích một số kết nối cụ thể\n",
    "    print(f\"\\nPhân tích chi tiết:\")\n",
    "    for i in range(n):\n",
    "        for j in range(n):\n",
    "            if i != j and cumulative[i, j] > 0:\n",
    "                print(f\"Từ người {i+1} đến người {j+1}: {cumulative[i, j]} cách\")\n",
    "\n",
    "# Ma trận truyền tin từ tài liệu\n",
    "communication_matrix = np.array([\n",
    "    [0, 1, 0, 1],\n",
    "    [0, 0, 1, 0],\n",
    "    [1, 0, 0, 1],\n",
    "    [1, 1, 0, 0]\n",
    "])\n",
    "\n",
    "analyze_communication_network(communication_matrix, 3)"
   ]
  }
 ],
 "metadata": {
  "kernelspec": {
   "display_name": "Python 3",
   "language": "python",
   "name": "python3"
  },
  "language_info": {
   "codemirror_mode": {
    "name": "ipython",
    "version": 3
   },
   "file_extension": ".py",
   "mimetype": "text/x-python",
   "name": "python",
   "nbconvert_exporter": "python",
   "pygments_lexer": "ipython3",
   "version": "3.11.0"
  },
  "orig_nbformat": 4,
  "vscode": {
   "interpreter": {
    "hash": "c261aea317cc0286b3b3261fbba9abdec21eaa57589985bb7a274bf54d6cc0a7"
   }
  }
 },
 "nbformat": 4,
 "nbformat_minor": 2
}
