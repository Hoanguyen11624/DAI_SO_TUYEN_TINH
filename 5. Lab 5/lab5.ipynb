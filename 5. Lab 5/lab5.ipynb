{
 "cells": [
  {
   "cell_type": "markdown",
   "id": "f54a0c61",
   "metadata": {},
   "source": [
    "LAB 5"
   ]
  },
  {
   "cell_type": "markdown",
   "id": "b99b7329",
   "metadata": {},
   "source": [
    "1."
   ]
  },
  {
   "cell_type": "code",
   "execution_count": 4,
   "id": "2104fe08",
   "metadata": {},
   "outputs": [
    {
     "name": "stdout",
     "output_type": "stream",
     "text": [
      "None\n",
      "[[1 2]\n",
      " [3 4]]\n"
     ]
    }
   ],
   "source": [
    "import numpy as np \n",
    "D = np.array([[1,2],[3,4]])\n",
    "\n",
    "E = np.array([[1,2],[3,5]])\n",
    "print(np.copyto(E,D))\n",
    "print(E)"
   ]
  },
  {
   "cell_type": "code",
   "execution_count": 10,
   "id": "29ea4bf9",
   "metadata": {},
   "outputs": [
    {
     "name": "stdout",
     "output_type": "stream",
     "text": [
      "G =  [[1. 0. 0. 0. 0.]\n",
      " [0. 1. 0. 0. 0.]\n",
      " [0. 0. 1. 0. 0.]\n",
      " [0. 0. 0. 1. 0.]\n",
      " [0. 0. 0. 0. 1.]]\n",
      "H =  [[ 0.47132181 -0.83802906]\n",
      " [ 1.53357982  0.59550885]\n",
      " [-0.45727761 -0.07883363]]\n",
      "K =  [[0. 0. 0. 0.]\n",
      " [0. 0. 0. 0.]\n",
      " [0. 0. 0. 0.]\n",
      " [0. 0. 0. 0.]]\n"
     ]
    }
   ],
   "source": [
    "from numpy import matlib \n",
    "G = matlib.identity(5)\n",
    "print(\"G = \",G)\n",
    "\n",
    "H = matlib.randn(3,2)\n",
    "print(\"H = \",H)\n",
    "\n",
    "K = matlib.zeros([4,4])\n",
    "print(\"K = \", K)"
   ]
  },
  {
   "cell_type": "markdown",
   "id": "174a09dc",
   "metadata": {},
   "source": [
    "2."
   ]
  },
  {
   "cell_type": "code",
   "execution_count": 11,
   "id": "ee9c1acf",
   "metadata": {},
   "outputs": [
    {
     "name": "stdout",
     "output_type": "stream",
     "text": [
      "[[3 1]\n",
      " [1 0]]\n",
      "[[3 1]\n",
      " [1 0]]\n",
      "[[3 1]\n",
      " [1 0]]\n",
      "[[3 1]\n",
      " [1 0]]\n",
      "[[3 1]\n",
      " [1 0]]\n",
      "[[3 1]\n",
      " [1 0]]\n",
      "[[3 1]\n",
      " [1 0]]\n",
      "[[3 1]\n",
      " [1 0]]\n",
      "[[3 1]\n",
      " [1 0]]\n",
      "[[3 1]\n",
      " [1 0]]\n",
      "[[3 1]\n",
      " [1 0]]\n",
      "[[3 1]\n",
      " [1 0]]\n",
      "[[3 1]\n",
      " [1 0]]\n",
      "3.5\n"
     ]
    }
   ],
   "source": [
    "c = [3, 7, 15, 1, 292, 1, 1, 1, 2, 1, 3, 1, 14, 2]\n",
    "M = np.mat([[1,2],[3,4]])\n",
    "for i in range(len(c)): \n",
    "    ci = np.mat([[1,1],[1,0]]) \n",
    "    ci[0, 0] = c[i] \n",
    "    if (i==0): \n",
    "        M = ci \n",
    "    else: \n",
    "        print(M) \n",
    "M = M.dot(ci) \n",
    "print (M[0,0]/M[1,0]) "
   ]
  },
  {
   "cell_type": "markdown",
   "id": "f5b63202",
   "metadata": {},
   "source": [
    "BÀI TẬP CHƯƠNGCHƯƠNG"
   ]
  },
  {
   "cell_type": "code",
   "execution_count": 12,
   "id": "b38a9fcd",
   "metadata": {},
   "outputs": [
    {
     "name": "stdout",
     "output_type": "stream",
     "text": [
      "Phương trình: y = -1.90x + 10.20\n",
      "Lượng thuốc giảm 1.90 đơn vị/giờ\n"
     ]
    },
    {
     "data": {
      "image/png": "[encoded data removed]",
      "text/plain": [
       "<Figure size 640x480 with 1 Axes>"
      ]
     },
     "metadata": {},
     "output_type": "display_data"
    }
   ],
   "source": [
    "import numpy as np\n",
    "import matplotlib.pyplot as plt\n",
    "\n",
    "# Dữ liệu\n",
    "x = np.array([0, 1, 2, 3, 4])  # thời gian (giờ)\n",
    "y = np.array([10, 8, 7, 5, 2])  # lượng thuốc\n",
    "\n",
    "# Tính hệ số bằng công thức bình phương cực tiểu\n",
    "n = len(x)\n",
    "a = (n*np.sum(x*y) - np.sum(x)*np.sum(y)) / (n*np.sum(x**2) - np.sum(x)**2)\n",
    "b = (np.sum(y) - a*np.sum(x)) / n\n",
    "\n",
    "print(f\"Phương trình: y = {a:.2f}x + {b:.2f}\")\n",
    "print(f\"Lượng thuốc giảm {abs(a):.2f} đơn vị/giờ\")\n",
    "\n",
    "# Vẽ đồ thị\n",
    "plt.scatter(x, y, color='red', s=100, label='Dữ liệu')\n",
    "x_line = np.linspace(0, 4, 100)\n",
    "plt.plot(x_line, a*x_line + b, 'b-', label='Hồi quy tuyến tính')\n",
    "plt.xlabel('Thời gian (giờ)')\n",
    "plt.ylabel('Lượng thuốc')\n",
    "plt.legend()\n",
    "plt.grid(True)\n",
    "plt.show()"
   ]
  }
 ],
 "metadata": {
  "kernelspec": {
   "display_name": "Python 3",
   "language": "python",
   "name": "python3"
  },
  "language_info": {
   "codemirror_mode": {
    "name": "ipython",
    "version": 3
   },
   "file_extension": ".py",
   "mimetype": "text/x-python",
   "name": "python",
   "nbconvert_exporter": "python",
   "pygments_lexer": "ipython3",
   "version": "3.11.9"
  }
 },
 "nbformat": 4,
 "nbformat_minor": 5
}
