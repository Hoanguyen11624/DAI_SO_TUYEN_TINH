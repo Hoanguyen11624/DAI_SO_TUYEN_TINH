{
 "cells": [
  {
   "cell_type": "code",
   "execution_count": 1,
   "id": "5abe87ea",
   "metadata": {},
   "outputs": [
    {
     "name": "stdout",
     "output_type": "stream",
     "text": [
      "[-1 12 -3  5 -4]\n",
      "[False  True False  True False]\n",
      "[ True False  True False  True]\n",
      "['so am' 'so duong' 'so am' 'so duong' 'so am']\n"
     ]
    }
   ],
   "source": [
    "import numpy as np\n",
    "scores = np.array([-1,12,-3,5,-4])\n",
    "print(scores)\n",
    "print(scores>=0)\n",
    "print(scores<0)\n",
    "print(np.select([scores >=0, scores < 0],['so duong', 'so am']))"
   ]
  },
  {
   "cell_type": "code",
   "execution_count": 2,
   "id": "ccce4e2e",
   "metadata": {},
   "outputs": [
    {
     "name": "stdout",
     "output_type": "stream",
     "text": [
      "['so am' 'so duong' 'so duong' 'so duong' 'so am' 'so duong' 'so am']\n"
     ]
    }
   ],
   "source": [
    "import numpy as np\n",
    "scores = np.array([-1,1,2,0,-3,5,-4])\n",
    "print(np.select([scores >=0, scores < 0],['so duong', 'so am']))"
   ]
  },
  {
   "cell_type": "markdown",
   "id": "7cafe305",
   "metadata": {},
   "source": [
    "Bai 3"
   ]
  },
  {
   "cell_type": "code",
   "execution_count": 3,
   "id": "3798e950",
   "metadata": {},
   "outputs": [
    {
     "name": "stdout",
     "output_type": "stream",
     "text": [
      "[[3 4]\n",
      " [5 6]]\n"
     ]
    }
   ],
   "source": [
    "import numpy as np\n",
    "from scipy import linalg, sparse\n",
    "\n",
    "D = np.mat([[3,4],[5,6]])\n",
    "print(D)"
   ]
  },
  {
   "cell_type": "code",
   "execution_count": 5,
   "id": "39a8cff4",
   "metadata": {},
   "outputs": [
    {
     "name": "stdout",
     "output_type": "stream",
     "text": [
      "[[0.60737112 0.61771045 0.11949663 0.65279074 0.46253093 0.74363626\n",
      "  0.20854409]\n",
      " [0.24355066 0.49297766 0.2743474  0.5389431  0.1259685  0.09083301\n",
      "  0.72830797]\n",
      " [0.01843692 0.99660375 0.34306647 0.52195443 0.76767409 0.21209513\n",
      "  0.74141161]\n",
      " [0.97179722 0.04753631 0.07768935 0.04688915 0.76150662 0.06128953\n",
      "  0.68283383]\n",
      " [0.7163255  0.65863893 0.45003411 0.17919075 0.21004604 0.24767881\n",
      "  0.46989887]]\n"
     ]
    }
   ],
   "source": [
    "import numpy as np\n",
    "from scipy import linalg, sparse\n",
    "C = np.mat(np.random.random((5,7)))\n",
    "print(C)"
   ]
  },
  {
   "cell_type": "code",
   "execution_count": 6,
   "id": "d2b5b17a",
   "metadata": {},
   "outputs": [
    {
     "name": "stdout",
     "output_type": "stream",
     "text": [
      "[[0.36895288 0.64434885]\n",
      " [0.43667634 0.80878991]]\n"
     ]
    }
   ],
   "source": [
    "A = np.mat(np.random.random((2,2)))\n",
    "print(A)"
   ]
  },
  {
   "cell_type": "code",
   "execution_count": 7,
   "id": "aa7c6dcd",
   "metadata": {},
   "outputs": [
    {
     "name": "stdout",
     "output_type": "stream",
     "text": [
      "[[1.+5.j 0.+2.j 0.+3.j]\n",
      " [4.+0.j 5.+0.j 6.+0.j]]\n"
     ]
    }
   ],
   "source": [
    "b = np.array([(1+5j, 2j, 3j),(4, 5,6)]) \n",
    "print(b)"
   ]
  },
  {
   "cell_type": "code",
   "execution_count": 8,
   "id": "8daf91e2",
   "metadata": {},
   "outputs": [
    {
     "name": "stdout",
     "output_type": "stream",
     "text": [
      "[[1.+5.j 0.+2.j 0.+3.j]\n",
      " [4.+0.j 5.+0.j 6.+0.j]]\n"
     ]
    }
   ],
   "source": [
    "B = np.asmatrix(b)\n",
    "print(B)"
   ]
  },
  {
   "cell_type": "code",
   "execution_count": 11,
   "id": "b9eec0e5",
   "metadata": {},
   "outputs": [
    {
     "name": "stdout",
     "output_type": "stream",
     "text": [
      "[[0.36895288 0.43667634]\n",
      " [0.64434885 0.80878991]]\n",
      "[[ 47.48239708 -37.82839965]\n",
      " [-25.63637245  21.66046694]]\n",
      "[[ 47.48239708 -37.82839965]\n",
      " [-25.63637245  21.66046694]]\n"
     ]
    }
   ],
   "source": [
    "print(A.T)\n",
    "print(A.I)\n",
    "print(linalg.inv(A))"
   ]
  },
  {
   "cell_type": "code",
   "execution_count": 12,
   "id": "7d4e0554",
   "metadata": {},
   "outputs": [
    {
     "name": "stdout",
     "output_type": "stream",
     "text": [
      "[[-1  0  0]\n",
      " [ 0 -2  0]\n",
      " [ 1  5 -2]]\n"
     ]
    }
   ],
   "source": [
    "M = np.array([[-1,3,2],[0,-2,1],[1,5,-2]])\n",
    "M_lower = np.tril(M)\n",
    "print(M_lower)"
   ]
  },
  {
   "cell_type": "code",
   "execution_count": 13,
   "id": "50d7f237",
   "metadata": {},
   "outputs": [
    {
     "name": "stdout",
     "output_type": "stream",
     "text": [
      "[[-1  3  2]\n",
      " [ 0 -2  1]\n",
      " [ 0  0 -2]]\n"
     ]
    }
   ],
   "source": [
    "M = np.array([[-1,3,2],[0,-2,1],[1,5,-2]])\n",
    "M_upper = np.triu(M)\n",
    "print(M_upper)"
   ]
  },
  {
   "cell_type": "code",
   "execution_count": 14,
   "id": "d994cdd2",
   "metadata": {},
   "outputs": [
    {
     "name": "stdout",
     "output_type": "stream",
     "text": [
      "[-1 -2 -2]\n",
      "[[-1  0  0]\n",
      " [ 0 -2  0]\n",
      " [ 0  0 -2]]\n"
     ]
    }
   ],
   "source": [
    "M = np.array([[-1,3,2],[0,-2,1],[1,5,-2]]) \n",
    "v_diag = np.diag(M)\n",
    "print(v_diag)\n",
    "M_diag = np.diag(v_diag)\n",
    "print(M_diag)"
   ]
  },
  {
   "cell_type": "code",
   "execution_count": null,
   "id": "3b502065",
   "metadata": {},
   "outputs": [
    {
     "name": "stdout",
     "output_type": "stream",
     "text": [
      "[(2, 7, -1)]\n"
     ]
    }
   ],
   "source": [
    "import sympy as sp \n",
    "x = sp.Symbol('x')\n",
    "y = sp.Symbol('y')\n",
    "z = sp.Symbol('z')\n",
    "print(sp.solve ( [x*x+2-6, y-1-6,x+z-1, 2*x*x-8, z*z+4-5, y-z-8],[x,y,z] ) )"
   ]
  },
  {
   "cell_type": "code",
   "execution_count": 18,
   "id": "ae4d24c1",
   "metadata": {},
   "outputs": [
    {
     "name": "stdout",
     "output_type": "stream",
     "text": [
      "[[ 0.  1.  2.  3.  4.  5.]\n",
      " [ 6.  7.  8.  9. 10. 11.]\n",
      " [12. 13. 14. 15. 16. 17.]\n",
      " [18. 19. 20. 21. 22. 23.]\n",
      " [24. 25. 26. 27. 28. 29.]\n",
      " [30. 31. 32. 33. 34. 35.]]\n",
      "[[1. 0. 0. 0. 0. 0.]\n",
      " [0. 1. 0. 0. 0. 0.]\n",
      " [0. 0. 1. 0. 0. 0.]\n",
      " [0. 0. 0. 1. 0. 0.]\n",
      " [0. 0. 0. 0. 1. 0.]\n",
      " [0. 0. 0. 0. 0. 1.]]\n",
      "36\n",
      "[ 0.  7. 14. 21. 28. 35.]\n",
      "[[ 1.  1.  2.  3.  4.  5.]\n",
      " [ 6.  8.  8.  9. 10. 11.]\n",
      " [12. 13. 15. 15. 16. 17.]\n",
      " [18. 19. 20. 22. 22. 23.]\n",
      " [24. 25. 26. 27. 29. 29.]\n",
      " [30. 31. 32. 33. 34. 36.]]\n"
     ]
    }
   ],
   "source": [
    "A = ([[0,1,2,3,4,5],\n",
    "      [6,7,8,9,10,11],\n",
    "      [12,13,14,15,16,17],\n",
    "      [18,19,20,21,22,23],\n",
    "      [24,25,26,27,28,29],\n",
    "      [30,31,32,33,34,35]])\n",
    "I = ([[1,0,0,0,0,0],\n",
    "      [0,1,0,0,0,0],\n",
    "      [0,0,1,0,0,0],\n",
    "      [0,0,0,1,0,0],\n",
    "      [0,0,0,0,1,0],\n",
    "      [0,0,0,0,0,1]])\n",
    "A = np.reshape(np.arange(36.0),(6,6))\n",
    "print(A)\n",
    "I6 = np.identity(6)\n",
    "print(I6)\n",
    "\n",
    "print(A.size)\n",
    "print(np.matrix.diagonal(A))\n",
    "A_sum = A + I6\n",
    "print(A_sum)"
   ]
  },
  {
   "cell_type": "code",
   "execution_count": 20,
   "id": "fee929fa",
   "metadata": {},
   "outputs": [
    {
     "name": "stdout",
     "output_type": "stream",
     "text": [
      "C =  [ 70. 196. 322. 448. 574. 700.]\n"
     ]
    }
   ],
   "source": [
    "vecB = np.array([1.,2.,3.,4.,5.,6.])\n",
    "C = A.dot(vecB)\n",
    "print(\"C = \",C)"
   ]
  },
  {
   "cell_type": "code",
   "execution_count": 21,
   "id": "1845acc9",
   "metadata": {},
   "outputs": [
    {
     "name": "stdout",
     "output_type": "stream",
     "text": [
      "D =  [[1. 2. 3. 4. 5. 6.]\n",
      " [1. 0. 1. 0. 1. 0.]]\n"
     ]
    },
    {
     "ename": "ValueError",
     "evalue": "shapes (6,6) and (2,6) not aligned: 6 (dim 1) != 2 (dim 0)",
     "output_type": "error",
     "traceback": [
      "\u001b[31m---------------------------------------------------------------------------\u001b[39m",
      "\u001b[31mValueError\u001b[39m                                Traceback (most recent call last)",
      "\u001b[36mCell\u001b[39m\u001b[36m \u001b[39m\u001b[32mIn[21]\u001b[39m\u001b[32m, line 4\u001b[39m\n\u001b[32m      1\u001b[39m D = np.array([[\u001b[32m1.\u001b[39m, \u001b[32m2.\u001b[39m, \u001b[32m3.\u001b[39m, \u001b[32m4.\u001b[39m, \u001b[32m5.\u001b[39m, \u001b[32m6.\u001b[39m], [\u001b[32m1.\u001b[39m, \u001b[32m0.\u001b[39m, \u001b[32m1.\u001b[39m, \u001b[32m0.\u001b[39m, \u001b[32m1.\u001b[39m, \u001b[32m0.\u001b[39m]])\n\u001b[32m      2\u001b[39m \u001b[38;5;28mprint\u001b[39m(\u001b[33m\"\u001b[39m\u001b[33mD = \u001b[39m\u001b[33m\"\u001b[39m,D)\n\u001b[32m----> \u001b[39m\u001b[32m4\u001b[39m E = \u001b[43mA\u001b[49m\u001b[43m.\u001b[49m\u001b[43mdot\u001b[49m\u001b[43m(\u001b[49m\u001b[43mD\u001b[49m\u001b[43m)\u001b[49m\n\u001b[32m      5\u001b[39m \u001b[38;5;28mprint\u001b[39m(\u001b[33m\"\u001b[39m\u001b[33mE = \u001b[39m\u001b[33m\"\u001b[39m, E)\n",
      "\u001b[31mValueError\u001b[39m: shapes (6,6) and (2,6) not aligned: 6 (dim 1) != 2 (dim 0)"
     ]
    }
   ],
   "source": [
    "D = np.array([[1., 2., 3., 4., 5., 6.], [1., 0., 1., 0., 1., 0.]])\n",
    "print(\"D = \",D)\n",
    "\n",
    "E = A.dot(D)\n",
    "print(\"E = \", E)"
   ]
  },
  {
   "cell_type": "code",
   "execution_count": 25,
   "id": "5ace2c78",
   "metadata": {},
   "outputs": [
    {
     "name": "stdout",
     "output_type": "stream",
     "text": [
      "F =  [[1. 1.]\n",
      " [2. 0.]\n",
      " [3. 1.]\n",
      " [4. 0.]\n",
      " [5. 1.]\n",
      " [6. 0.]]\n",
      "G =  [[ 70.   6.]\n",
      " [196.  24.]\n",
      " [322.  42.]\n",
      " [448.  60.]\n",
      " [574.  78.]\n",
      " [700.  96.]]\n"
     ]
    },
    {
     "ename": "LinAlgError",
     "evalue": "Singular matrix",
     "output_type": "error",
     "traceback": [
      "\u001b[31m---------------------------------------------------------------------------\u001b[39m",
      "\u001b[31mLinAlgError\u001b[39m                               Traceback (most recent call last)",
      "\u001b[36mCell\u001b[39m\u001b[36m \u001b[39m\u001b[32mIn[25]\u001b[39m\u001b[32m, line 5\u001b[39m\n\u001b[32m      3\u001b[39m \u001b[38;5;28mprint\u001b[39m(\u001b[33m\"\u001b[39m\u001b[33mF = \u001b[39m\u001b[33m\"\u001b[39m, F)\n\u001b[32m      4\u001b[39m \u001b[38;5;28mprint\u001b[39m(\u001b[33m\"\u001b[39m\u001b[33mG = \u001b[39m\u001b[33m\"\u001b[39m, G)\n\u001b[32m----> \u001b[39m\u001b[32m5\u001b[39m \u001b[38;5;28mprint\u001b[39m(\u001b[33m\"\u001b[39m\u001b[33mA.T = \u001b[39m\u001b[33m\"\u001b[39m, np.linalg.inv(\u001b[43mnp\u001b[49m\u001b[43m.\u001b[49m\u001b[43mlinalg\u001b[49m\u001b[43m.\u001b[49m\u001b[43minv\u001b[49m\u001b[43m(\u001b[49m\u001b[43mA\u001b[49m\u001b[43m)\u001b[49m))\n",
      "\u001b[36mFile \u001b[39m\u001b[32m~\\AppData\\Local\\Packages\\PythonSoftwareFoundation.Python.3.11_qbz5n2kfra8p0\\LocalCache\\local-packages\\Python311\\site-packages\\numpy\\linalg\\linalg.py:561\u001b[39m, in \u001b[36minv\u001b[39m\u001b[34m(a)\u001b[39m\n\u001b[32m    559\u001b[39m signature = \u001b[33m'\u001b[39m\u001b[33mD->D\u001b[39m\u001b[33m'\u001b[39m \u001b[38;5;28;01mif\u001b[39;00m isComplexType(t) \u001b[38;5;28;01melse\u001b[39;00m \u001b[33m'\u001b[39m\u001b[33md->d\u001b[39m\u001b[33m'\u001b[39m\n\u001b[32m    560\u001b[39m extobj = get_linalg_error_extobj(_raise_linalgerror_singular)\n\u001b[32m--> \u001b[39m\u001b[32m561\u001b[39m ainv = \u001b[43m_umath_linalg\u001b[49m\u001b[43m.\u001b[49m\u001b[43minv\u001b[49m\u001b[43m(\u001b[49m\u001b[43ma\u001b[49m\u001b[43m,\u001b[49m\u001b[43m \u001b[49m\u001b[43msignature\u001b[49m\u001b[43m=\u001b[49m\u001b[43msignature\u001b[49m\u001b[43m,\u001b[49m\u001b[43m \u001b[49m\u001b[43mextobj\u001b[49m\u001b[43m=\u001b[49m\u001b[43mextobj\u001b[49m\u001b[43m)\u001b[49m\n\u001b[32m    562\u001b[39m \u001b[38;5;28;01mreturn\u001b[39;00m wrap(ainv.astype(result_t, copy=\u001b[38;5;28;01mFalse\u001b[39;00m))\n",
      "\u001b[36mFile \u001b[39m\u001b[32m~\\AppData\\Local\\Packages\\PythonSoftwareFoundation.Python.3.11_qbz5n2kfra8p0\\LocalCache\\local-packages\\Python311\\site-packages\\numpy\\linalg\\linalg.py:112\u001b[39m, in \u001b[36m_raise_linalgerror_singular\u001b[39m\u001b[34m(err, flag)\u001b[39m\n\u001b[32m    111\u001b[39m \u001b[38;5;28;01mdef\u001b[39;00m\u001b[38;5;250m \u001b[39m\u001b[34m_raise_linalgerror_singular\u001b[39m(err, flag):\n\u001b[32m--> \u001b[39m\u001b[32m112\u001b[39m     \u001b[38;5;28;01mraise\u001b[39;00m LinAlgError(\u001b[33m\"\u001b[39m\u001b[33mSingular matrix\u001b[39m\u001b[33m\"\u001b[39m)\n",
      "\u001b[31mLinAlgError\u001b[39m: Singular matrix"
     ]
    }
   ],
   "source": [
    "F = np.array([[1., 1.], [2., 0.], [3., 1.], [4., 0], [5., 1], [6., 0.]])\n",
    "G = A.dot(F)\n",
    "print(\"F = \", F)\n",
    "print(\"G = \", G)\n",
    "print(\"A.T = \", np.linalg.inv(np.linalg.inv(A)))\n"
   ]
  },
  {
   "cell_type": "markdown",
   "id": "4a46ad5d",
   "metadata": {},
   "source": [
    "# Bai 4"
   ]
  },
  {
   "cell_type": "code",
   "execution_count": 26,
   "id": "098300e3",
   "metadata": {},
   "outputs": [
    {
     "name": "stdout",
     "output_type": "stream",
     "text": [
      "b =  [1 1]\n",
      "b =  [2 1]\n",
      "b =  [3 2]\n",
      "b =  [5 3]\n",
      "b =  [8 5]\n",
      "b =  [13  8]\n",
      "b =  [21 13]\n",
      "b =  [34 21]\n",
      "b =  [55 34]\n",
      "b =  [89 55]\n"
     ]
    }
   ],
   "source": [
    "A = np.array([[1,1], [1,0]])\n",
    "b = np.array([1,0])\n",
    "n = 10\n",
    "for i in range(n):\n",
    "    b = A.dot(b)\n",
    "    print(\"b = \",b)"
   ]
  },
  {
   "cell_type": "markdown",
   "id": "5168b14c",
   "metadata": {},
   "source": [
    "# Bai 5"
   ]
  },
  {
   "cell_type": "code",
   "execution_count": 28,
   "id": "fe5df3cd",
   "metadata": {},
   "outputs": [
    {
     "name": "stdout",
     "output_type": "stream",
     "text": [
      "nghiem =  {x1: x4 + 160, x2: x4 - 80, x3: x4 + 520}\n"
     ]
    }
   ],
   "source": [
    "import sympy as sp\n",
    "from sympy import Symbol, solve\n",
    "\n",
    "x1 = Symbol('x1')\n",
    "x2 = Symbol('x2')\n",
    "x3 = Symbol('x3')\n",
    "x4 = Symbol('x4')\n",
    "\n",
    "pt1 = x4 + 610 - 450 - x1\n",
    "pt2 = x1 + 400 -x2 - 640\n",
    "pt3 = x2 + 600 -x3\n",
    "pt4 = x3 -x4 - 520\n",
    "\n",
    "nghiem = sp.solve((pt1,pt2,pt3,pt4))\n",
    "print(\"nghiem = \", nghiem)"
   ]
  },
  {
   "cell_type": "code",
   "execution_count": 31,
   "id": "542f2f8a",
   "metadata": {},
   "outputs": [
    {
     "name": "stdout",
     "output_type": "stream",
     "text": [
      "A_nghichdao =  [[-0.375  0.375  0.125 -0.125]\n",
      " [-0.125 -0.375  0.375  0.125]\n",
      " [ 0.125 -0.125 -0.375  0.375]\n",
      " [ 0.375  0.125 -0.125 -0.375]]\n"
     ]
    }
   ],
   "source": [
    "A = np.matrix([[-1,0,0,1],[1,-1,0,0],[0,1,-1,0],[0,0,1,-1]])\n",
    "A_nghichdao = np.linalg.pinv(A)\n",
    "print(\"A_nghichdao = \", A_nghichdao)"
   ]
  },
  {
   "cell_type": "markdown",
   "id": "30a7eddb",
   "metadata": {},
   "source": [
    "# Bai tap chuong"
   ]
  },
  {
   "cell_type": "markdown",
   "id": "1eef4afa",
   "metadata": {},
   "source": [
    "# Bai 1"
   ]
  },
  {
   "cell_type": "markdown",
   "id": "2807887a",
   "metadata": {},
   "source": [
    "Van de 1:"
   ]
  },
  {
   "cell_type": "code",
   "execution_count": 32,
   "id": "ce198934",
   "metadata": {},
   "outputs": [
    {
     "name": "stdout",
     "output_type": "stream",
     "text": [
      "\n",
      "Nghiệm: x = 0.00, y = 2.00\n",
      "Kiểm tra: 0.0 - 2.0 = -2.00\n",
      "Kiểm tra: 2×0.0 + 3×2.0 = 6.00\n",
      "\n",
      "============================================================\n"
     ]
    }
   ],
   "source": [
    "from scipy.integrate import quad\n",
    "\n",
    "A1 = np.array([[1, -1], \n",
    "               [2, 3]])\n",
    "b1 = np.array([-2, 6])\n",
    "\n",
    "solution1 = np.linalg.solve(A1, b1)\n",
    "print(f\"\\nNghiệm: x = {solution1[0]:.2f}, y = {solution1[1]:.2f}\")\n",
    "\n",
    "\n",
    "print(f\"Kiểm tra: {solution1[0]} - {solution1[1]} = {solution1[0] - solution1[1]:.2f}\")\n",
    "print(f\"Kiểm tra: 2×{solution1[0]} + 3×{solution1[1]} = {2*solution1[0] + 3*solution1[1]:.2f}\")\n",
    "\n",
    "print(\"\\n\" + \"=\"*60)"
   ]
  },
  {
   "cell_type": "markdown",
   "id": "04c69f91",
   "metadata": {},
   "source": [
    "Van de 2:"
   ]
  },
  {
   "cell_type": "code",
   "execution_count": 33,
   "id": "2ddcba93",
   "metadata": {},
   "outputs": [
    {
     "name": "stdout",
     "output_type": "stream",
     "text": [
      "\n",
      "Determinant của ma trận hệ số: 3.00\n",
      "Nghiệm: x = 3.00, y = 1.00, z = 2.00\n",
      "Kiểm tra:\n",
      "  3.00 - 1.00 = 2.00\n",
      "  2×3.00 - 1.00 - 2.00 = 3.00\n",
      "  3.00 + 1.00 + 2.00 = 6.00\n",
      "\n",
      "============================================================\n"
     ]
    }
   ],
   "source": [
    "A2 = np.array([[1, -1, 0],\n",
    "               [2, -1, -1],\n",
    "               [1, 1, 1]])\n",
    "b2 = np.array([2, 3, 6])\n",
    "\n",
    "det_A2 = np.linalg.det(A2)\n",
    "print(f\"\\nDeterminant của ma trận hệ số: {det_A2:.2f}\")\n",
    "\n",
    "if abs(det_A2) > 1e-10:\n",
    "    solution2 = np.linalg.solve(A2, b2)\n",
    "    print(f\"Nghiệm: x = {solution2[0]:.2f}, y = {solution2[1]:.2f}, z = {solution2[2]:.2f}\")\n",
    "    \n",
    "    print(f\"Kiểm tra:\")\n",
    "    print(f\"  {solution2[0]:.2f} - {solution2[1]:.2f} = {solution2[0] - solution2[1]:.2f}\")\n",
    "    print(f\"  2×{solution2[0]:.2f} - {solution2[1]:.2f} - {solution2[2]:.2f} = {2*solution2[0] - solution2[1] - solution2[2]:.2f}\")\n",
    "    print(f\"  {solution2[0]:.2f} + {solution2[1]:.2f} + {solution2[2]:.2f} = {solution2[0] + solution2[1] + solution2[2]:.2f}\")\n",
    "else:\n",
    "    print(\"Hệ phương trình không có nghiệm duy nhất\")\n",
    "\n",
    "print(\"\\n\" + \"=\"*60)"
   ]
  },
  {
   "cell_type": "markdown",
   "id": "40ac4a3a",
   "metadata": {},
   "source": [
    "Van de 3:"
   ]
  },
  {
   "cell_type": "code",
   "execution_count": 34,
   "id": "62f832fe",
   "metadata": {},
   "outputs": [
    {
     "name": "stdout",
     "output_type": "stream",
     "text": [
      "Các hệ số: a = 1.00, b = -4.00, c = 7.00\n",
      "Đa thức: p(x) = 1.00x² + -4.00x + 7.00\n",
      "Kiểm tra:\n",
      "  p(1) = 4.00\n",
      "  p(2) = 3.00\n",
      "  p(3) = 4.00\n",
      "\n",
      "============================================================\n"
     ]
    }
   ],
   "source": [
    "A3 = np.array([[1, 1, 1],\n",
    "               [4, 2, 1],\n",
    "               [9, 3, 1]])\n",
    "b3 = np.array([4, 3, 4])\n",
    "\n",
    "solution3 = np.linalg.solve(A3, b3)\n",
    "a, b, c = solution3\n",
    "\n",
    "print(f\"Các hệ số: a = {a:.2f}, b = {b:.2f}, c = {c:.2f}\")\n",
    "print(f\"Đa thức: p(x) = {a:.2f}x² + {b:.2f}x + {c:.2f}\")\n",
    "\n",
    "print(f\"Kiểm tra:\")\n",
    "print(f\"  p(1) = {a + b + c:.2f}\")\n",
    "print(f\"  p(2) = {4*a + 2*b + c:.2f}\")\n",
    "print(f\"  p(3) = {9*a + 3*b + c:.2f}\")\n",
    "\n",
    "print(\"\\n\" + \"=\"*60)\n"
   ]
  },
  {
   "cell_type": "markdown",
   "id": "d5b8fc82",
   "metadata": {},
   "source": [
    "Van de 4:"
   ]
  },
  {
   "cell_type": "code",
   "execution_count": 35,
   "id": "ccbc97f1",
   "metadata": {},
   "outputs": [
    {
     "name": "stdout",
     "output_type": "stream",
     "text": [
      "Các hệ số: a = -0.11, b = -0.67, c = 1.11\n",
      "Phân tích: R(x) = -0.11/(x-1) + -0.67/(x-1)² + 1.11/(x+2)\n",
      "\n",
      "============================================================\n"
     ]
    }
   ],
   "source": [
    "A4 = np.array([[1, 0, 1],\n",
    "               [1, 1, -2],\n",
    "               [-2, 2, 1]])\n",
    "b4 = np.array([1, -3, 0])\n",
    "\n",
    "solution4 = np.linalg.solve(A4, b4)\n",
    "a4, b4_coeff, c4 = solution4\n",
    "\n",
    "print(f\"Các hệ số: a = {a4:.2f}, b = {b4_coeff:.2f}, c = {c4:.2f}\")\n",
    "print(f\"Phân tích: R(x) = {a4:.2f}/(x-1) + {b4_coeff:.2f}/(x-1)² + {c4:.2f}/(x+2)\")\n",
    "\n",
    "print(\"\\n\" + \"=\"*60)"
   ]
  },
  {
   "cell_type": "markdown",
   "id": "2c9e66bf",
   "metadata": {},
   "source": [
    "# Cau 3"
   ]
  },
  {
   "cell_type": "code",
   "execution_count": 36,
   "id": "020660ad",
   "metadata": {},
   "outputs": [
    {
     "name": "stdout",
     "output_type": "stream",
     "text": [
      "Ma trận F:\n",
      "[[1 1]\n",
      " [1 0]]\n",
      "\n",
      "Các lũy thừa của F:\n",
      "F^1 =\n",
      "[[1 1]\n",
      " [1 0]]\n",
      "\n",
      "F^2 =\n",
      "[[2 1]\n",
      " [1 1]]\n",
      "  → Fibo_3 = 2, Fibo_2 = 1, Fibo_1 = 1\n",
      "\n",
      "F^3 =\n",
      "[[3 2]\n",
      " [2 1]]\n",
      "  → Fibo_4 = 3, Fibo_3 = 2, Fibo_2 = 2\n",
      "\n",
      "F^4 =\n",
      "[[5 3]\n",
      " [3 2]]\n",
      "  → Fibo_5 = 5, Fibo_4 = 3, Fibo_3 = 3\n",
      "\n",
      "F^5 =\n",
      "[[8 5]\n",
      " [5 3]]\n",
      "  → Fibo_6 = 8, Fibo_5 = 5, Fibo_4 = 5\n",
      "\n",
      "F^10 =\n",
      "[[89 55]\n",
      " [55 34]]\n",
      "  → Fibo_11 = 89, Fibo_10 = 55, Fibo_9 = 55\n",
      "\n",
      "============================================================\n"
     ]
    }
   ],
   "source": [
    "F = np.array([[1, 1], [1, 0]], dtype=np.int64)\n",
    "print(f\"Ma trận F:\")\n",
    "print(F)\n",
    "\n",
    "print(f\"\\nCác lũy thừa của F:\")\n",
    "for k in range(1, 6):\n",
    "    F_k = np.linalg.matrix_power(F, k)\n",
    "    print(f\"F^{k} =\")\n",
    "    print(F_k)\n",
    "    \n",
    "    if k >= 2:\n",
    "        fib_k_plus_1 = F_k[0, 0]  # F_{k+1}\n",
    "        fib_k = F_k[0, 1]         # F_k  \n",
    "        fib_k_minus_1 = F_k[1, 0] # F_{k-1}\n",
    "        print(f\"  → Fibo_{k+1} = {fib_k_plus_1}, Fibo_{k} = {fib_k}, Fibo_{k-1} = {fib_k_minus_1}\")\n",
    "    print()\n",
    "\n",
    "k = 10\n",
    "F_10 = np.linalg.matrix_power(F, k)\n",
    "print(f\"F^{k} =\")\n",
    "print(F_10)\n",
    "print(f\"  → Fibo_{k+1} = {F_10[0,0]}, Fibo_{k} = {F_10[0,1]}, Fibo_{k-1} = {F_10[1,0]}\")\n",
    "\n",
    "print(\"\\n\" + \"=\"*60)"
   ]
  }
 ],
 "metadata": {
  "kernelspec": {
   "display_name": "Python 3",
   "language": "python",
   "name": "python3"
  },
  "language_info": {
   "codemirror_mode": {
    "name": "ipython",
    "version": 3
   },
   "file_extension": ".py",
   "mimetype": "text/x-python",
   "name": "python",
   "nbconvert_exporter": "python",
   "pygments_lexer": "ipython3",
   "version": "3.11.9"
  }
 },
 "nbformat": 4,
 "nbformat_minor": 5
}
