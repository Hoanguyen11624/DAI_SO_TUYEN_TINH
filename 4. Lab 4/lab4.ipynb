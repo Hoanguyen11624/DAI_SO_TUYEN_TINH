{
 "cells": [
  {
   "attachments": {},
   "cell_type": "markdown",
   "metadata": {},
   "source": [
    "LAB 4"
   ]
  },
  {
   "attachments": {},
   "cell_type": "markdown",
   "metadata": {},
   "source": [
    "Bài 1"
   ]
  },
  {
   "cell_type": "code",
   "execution_count": 3,
   "metadata": {},
   "outputs": [
    {
     "name": "stdout",
     "output_type": "stream",
     "text": [
      "-1\n"
     ]
    }
   ],
   "source": [
    "import numpy as np\n",
    "import math\n",
    "from itertools import permutations\n",
    "\n",
    "n = 4\n",
    "X = np.array(range(1,n+1))\n",
    "sigma = np.array([4,3,2,1])\n",
    "\n",
    "def sgn_by_def(sigma):\n",
    "    ket_qua = 1.0\n",
    "    for i in range(len(X)-1):\n",
    "        for j in range(i+1,len(X)):\n",
    "            ket_qua = ket_qua * ((X[i] - X[j]))/(sigma[i] - sigma[j])\n",
    "            return int(ket_qua)\n",
    "sigma = np.array([2,1,3,4])\n",
    "print(sgn_by_def(sigma))\n"
   ]
  },
  {
   "cell_type": "code",
   "execution_count": 4,
   "metadata": {},
   "outputs": [
    {
     "name": "stdout",
     "output_type": "stream",
     "text": [
      "1\n"
     ]
    }
   ],
   "source": [
    "sigma1 = np.array([1,2,3,4])\n",
    "print(sgn_by_def(sigma1))"
   ]
  },
  {
   "cell_type": "code",
   "execution_count": 5,
   "metadata": {},
   "outputs": [
    {
     "name": "stdout",
     "output_type": "stream",
     "text": [
      "-1\n"
     ]
    }
   ],
   "source": [
    "sigma2 = np.array([4,3,2,1]) \n",
    "print(sgn_by_def(sigma2))"
   ]
  },
  {
   "cell_type": "code",
   "execution_count": 8,
   "metadata": {},
   "outputs": [
    {
     "name": "stdout",
     "output_type": "stream",
     "text": [
      "[(1, 2, 3), (1, 3, 2), (2, 1, 3), (2, 3, 1), (3, 1, 2), (3, 2, 1)]\n",
      " + a1a2 - a2a1\n",
      " + a1a2a3 - a1a3a2 - a2a1a3 + a3a1a2 - a2a3a1 - a3a2a1\n"
     ]
    }
   ],
   "source": [
    "from itertools import permutations\n",
    "n = 3\n",
    "X = []\n",
    "for i in range (1, n+1):\n",
    "    X.append(i)\n",
    "Sn = list(permutations(X)) #  tạo hoán vị của tập X\n",
    "print (Sn)\n",
    "\n",
    "det = 0\n",
    "\n",
    "def phatsinh_DT(n):\n",
    "    X = []\n",
    "    for i in range(1,n+1):\n",
    "        X.append(i)\n",
    "    Sn = list(permutations(X))\n",
    "    dinhthuc = \"\"\n",
    "    for sn in Sn:\n",
    "        sigma3 = np.array([1])\n",
    "        sigma3.resize([n])\n",
    "        product = \"\"\n",
    "        for i in range(1,n+1):\n",
    "            sigma3[sn.index(i)] = i\n",
    "            product = product + \"a\" + str(sn.index(i) + 1)\n",
    "        dau = sgn_by_def(sigma3)\n",
    "        if (dau != 1):\n",
    "            product = \" - \" + product\n",
    "        else:\n",
    "            product = \" + \" + product\n",
    "        dinhthuc = dinhthuc + product\n",
    "    return dinhthuc\n",
    "print(phatsinh_DT(2))\n",
    "print(phatsinh_DT(3))\n"
   ]
  },
  {
   "cell_type": "code",
   "execution_count": 11,
   "metadata": {},
   "outputs": [
    {
     "name": "stdout",
     "output_type": "stream",
     "text": [
      "-2\n"
     ]
    }
   ],
   "source": [
    "def tinhtoan_dinhthuc(A):\n",
    "    X = []\n",
    "    import math\n",
    "    n = int(math.sqrt(A.size))\n",
    "    for i in range(1, n+1):\n",
    "        X.append(i)\n",
    "    Sn = list(permutations(X))\n",
    "    dinhthuc = 0\n",
    "    for sn in Sn:\n",
    "        sigma = np.zeros(n, dtype=int)\n",
    "        product = 1\n",
    "        \n",
    "        for i in range(1, n+1):\n",
    "            sigma[sn.index(i)] = i\n",
    "            product = product * A[i-1][sn.index(i)]\n",
    "        \n",
    "        dau = sgn_by_def(sigma)\n",
    "        if dau != 1:\n",
    "            product = product * (-1)\n",
    "        \n",
    "        dinhthuc = dinhthuc + product\n",
    "    \n",
    "    return dinhthuc\n",
    "matran = np.array([ [3,5,-8], [4, 12, -1], [2,5,3] ]) \n",
    "A = np.array([[1, 2], [3, 4]])\n",
    "print(tinhtoan_dinhthuc(A))"
   ]
  },
  {
   "attachments": {},
   "cell_type": "markdown",
   "metadata": {},
   "source": [
    "Bài 3"
   ]
  },
  {
   "cell_type": "code",
   "execution_count": 13,
   "metadata": {},
   "outputs": [
    {
     "name": "stdout",
     "output_type": "stream",
     "text": [
      "-14.0 -28.0 14.000000000000004\n",
      "Hai nghiệm của phương trình là:  2.0 -1.0000000000000002\n"
     ]
    }
   ],
   "source": [
    "import numpy as np\n",
    "A = np.array([[4, -2],[3, -5]]) # khai báo ma trận A\n",
    "A1 = np.array([[10, -2],[11, -5]])\n",
    "A2 = np.array([[4, 10],[3, 11]])\n",
    "from scipy import linalg # lưu ý: hàm tính định thức của ma trận là scipy.linalg.det(A)\n",
    "detA = linalg.det(A) # tính định thức cho ma trận A\n",
    "detA1 = linalg.det(A1)\n",
    "detA2 = linalg.det(A2)\n",
    "print (detA, detA1, detA2) \n",
    "\n",
    "if (detA != 0):\n",
    "    x1 = detA1 / detA\n",
    "    x2 = detA2 / detA\n",
    "print (\"Hai nghiệm của phương trình là: \", x1, x2)"
   ]
  },
  {
   "cell_type": "code",
   "execution_count": 14,
   "metadata": {},
   "outputs": [
    {
     "name": "stdout",
     "output_type": "stream",
     "text": [
      "Phương pháp 1: Sử dụng hàm det() của scipy\n",
      "det(A) = 0.0\n",
      "Hệ vô nghiệm hoặc vô số nghiệm\n",
      "\n",
      "Phương pháp 2: Sử dụng hàm tinhtoan_dinhthuc() viết bên trên\n",
      "det(A) = 0\n",
      "Hệ vô nghiệm hoặc vô số nghiệm\n",
      "\n",
      "Khai báo ma trận: A = \n",
      "[[-1  2 -3]\n",
      " [ 2 -2  1]\n",
      " [ 3 -4  4]]\n",
      "Vector b = [1 3 2]\n"
     ]
    }
   ],
   "source": [
    "import numpy as np\n",
    "from scipy.linalg import det\n",
    "\n",
    "def tinhtoan_dinhthuc(A):\n",
    "    X = []\n",
    "    n = int(np.sqrt(A.size))\n",
    "    \n",
    "    for i in range(1, n+1):\n",
    "        X.append(i)\n",
    "    \n",
    "    from itertools import permutations\n",
    "    Sn = list(permutations(X))\n",
    "    dinhthuc = 0\n",
    "    \n",
    "    for sn in Sn:\n",
    "        sigma = np.zeros(n, dtype=int)\n",
    "        product = 1\n",
    "        \n",
    "        for i in range(1, n+1):\n",
    "            sigma[sn.index(i)] = i\n",
    "            product = product * A[i-1][sn.index(i)]\n",
    "        \n",
    "        dau = sgn_by_def(sigma)\n",
    "        if dau != 1:\n",
    "            product = product * (-1)\n",
    "        \n",
    "        dinhthuc = dinhthuc + product\n",
    "    \n",
    "    return dinhthuc\n",
    "\n",
    "def sgn_by_def(sigma):\n",
    "    n = len(sigma)\n",
    "    inversions = 0\n",
    "    \n",
    "    for i in range(n):\n",
    "        for j in range(i+1, n):\n",
    "            if sigma[i] > sigma[j]:\n",
    "                inversions += 1\n",
    "    \n",
    "    return 1 if inversions % 2 == 0 else -1\n",
    "\n",
    "# Hệ phương trình:\n",
    "# -x + 2y - 3z = 1\n",
    "# 2x - 2y + z = 3  \n",
    "# 3x - 4y + 4z = 2\n",
    "\n",
    "# Ma trận hệ số A\n",
    "A = np.array([[-1, 2, -3],\n",
    "              [2, -2, 1],\n",
    "              [3, -4, 4]])\n",
    "\n",
    "# Vector hằng số b\n",
    "b = np.array([1, 3, 2])\n",
    "\n",
    "print(\"Phương pháp 1: Sử dụng hàm det() của scipy\")\n",
    "det_A = det(A)\n",
    "print(f\"det(A) = {det_A}\")\n",
    "\n",
    "if det_A != 0:\n",
    "    # Tính nghiệm bằng quy tắc Cramer\n",
    "    A_x = A.copy()\n",
    "    A_x[:, 0] = b\n",
    "    x = det(A_x) / det_A\n",
    "    \n",
    "    A_y = A.copy()  \n",
    "    A_y[:, 1] = b\n",
    "    y = det(A_y) / det_A\n",
    "    \n",
    "    A_z = A.copy()\n",
    "    A_z[:, 2] = b  \n",
    "    z = det(A_z) / det_A\n",
    "    \n",
    "    print(f\"Nghiệm: x = {x}, y = {y}, z = {z}\")\n",
    "else:\n",
    "    print(\"Hệ vô nghiệm hoặc vô số nghiệm\")\n",
    "\n",
    "print(\"\\nPhương pháp 2: Sử dụng hàm tinhtoan_dinhthuc() viết bên trên\")\n",
    "det_A_custom = tinhtoan_dinhthuc(A)\n",
    "print(f\"det(A) = {det_A_custom}\")\n",
    "\n",
    "if det_A_custom != 0:\n",
    "    A_x = A.copy()\n",
    "    A_x[:, 0] = b\n",
    "    x = tinhtoan_dinhthuc(A_x) / det_A_custom\n",
    "    \n",
    "    A_y = A.copy()\n",
    "    A_y[:, 1] = b  \n",
    "    y = tinhtoan_dinhthuc(A_y) / det_A_custom\n",
    "    \n",
    "    A_z = A.copy()\n",
    "    A_z[:, 2] = b\n",
    "    z = tinhtoan_dinhthuc(A_z) / det_A_custom\n",
    "    \n",
    "    print(f\"Nghiệm: x = {x}, y = {y}, z = {z}\")\n",
    "else:\n",
    "    print(\"Hệ vô nghiệm hoặc vô số nghiệm\")\n",
    "\n",
    "print(f\"\\nKhai báo ma trận: A = \\n{A}\")\n",
    "print(f\"Vector b = {b}\")"
   ]
  },
  {
   "attachments": {},
   "cell_type": "markdown",
   "metadata": {},
   "source": [
    "Ứng dụng 1:"
   ]
  },
  {
   "cell_type": "code",
   "execution_count": 20,
   "metadata": {},
   "outputs": [
    {
     "name": "stdout",
     "output_type": "stream",
     "text": [
      "Dien tich tam giac la:  1.50000000000000\n"
     ]
    }
   ],
   "source": [
    "import sympy as sp \n",
    "TG = sp.Matrix([[1,0,1],[4,3,1],[2,2,1]])\n",
    "print(\"Dien tich tam giac la: \" , (1/2 *TG.det()))"
   ]
  },
  {
   "attachments": {},
   "cell_type": "markdown",
   "metadata": {},
   "source": [
    "Ứng dụng 2:"
   ]
  },
  {
   "cell_type": "code",
   "execution_count": 22,
   "metadata": {},
   "outputs": [
    {
     "name": "stdout",
     "output_type": "stream",
     "text": [
      "The tich hinh tu dien:  -12.0000000000000\n",
      "The tich hinh tu dien:  -72\n"
     ]
    }
   ],
   "source": [
    "from sympy import Matrix\n",
    "\n",
    "M = Matrix([[0, 4, 1, 1], [4, 0, 0, 1], [3, 5, 2, 1], [2, 2, 5, 1]])\n",
    "print(\"The tich hinh tu dien: \", 1/6*M.det())\n",
    "print(\"The tich hinh tu dien: \", M.det())\n"
   ]
  },
  {
   "attachments": {},
   "cell_type": "markdown",
   "metadata": {},
   "source": [
    "Ứng dụng 4:"
   ]
  },
  {
   "cell_type": "code",
   "execution_count": 23,
   "metadata": {},
   "outputs": [
    {
     "name": "stdout",
     "output_type": "stream",
     "text": [
      "-72\n"
     ]
    }
   ],
   "source": [
    "from sympy import * # lúc này ta sử dụng trực tiếp thư viện \n",
    "\n",
    "x, y, z = symbols('x y z')\n",
    "MP = Matrix([[x, y, z, 1],[-1, 3, 2, 1],[0, 1, 0, 1],[-2, 0, 1, 1]])\n",
    "print(M.det())"
   ]
  },
  {
   "attachments": {},
   "cell_type": "markdown",
   "metadata": {},
   "source": [
    "Bài toán ứng dụng 3:"
   ]
  },
  {
   "cell_type": "code",
   "execution_count": 26,
   "metadata": {},
   "outputs": [
    {
     "name": "stdout",
     "output_type": "stream",
     "text": [
      "=== TÍNH QUỸ ĐẠO CỦA HÀNH TINH/VỆ TINH ===\n",
      "Sử dụng phương pháp fitting ellipse với dữ liệu quan sát\n",
      "\n",
      "Số điểm quan sát: 20\n",
      "Dữ liệu quan sát (x, y):\n",
      "  Điểm 1: (6.128, 3.542)\n",
      "  Điểm 2: (5.671, 3.816)\n",
      "  Điểm 3: (4.314, 4.303)\n",
      "  Điểm 4: (2.830, 4.582)\n",
      "  Điểm 5: (1.902, 4.280)\n",
      "  ...\n",
      "\n",
      "Ma trận hệ phương trình A (6 điểm đầu):\n",
      "     x²      xy      y²       x       y       1\n",
      "  37.547   21.702   12.544    6.128    3.542    1.000\n",
      "  32.164   21.643   14.563    5.671    3.816    1.000\n",
      "  18.612   18.564   18.516    4.314    4.303    1.000\n",
      "   8.010   12.967   20.993    2.830    4.582    1.000\n",
      "   3.618    8.141   18.318    1.902    4.280    1.000\n",
      "   0.010    0.350   11.676    0.102    3.417    1.000\n",
      "\n",
      "Hệ số ellipse tìm được:\n",
      "a = -0.065146\n",
      "b = 0.062385\n",
      "c = -0.107047\n",
      "d = 0.193551\n",
      "e = 0.077261\n",
      "f = 0.967974\n",
      "\n",
      "Phương trình ellipse:\n",
      "-0.065x² + 0.062xy + -0.107y² + 0.194x + 0.077y + 0.968 = 0\n",
      "Không thể xác định được tham số ellipse!\n"
     ]
    }
   ],
   "source": [
    "import numpy as np\n",
    "import matplotlib.pyplot as plt\n",
    "from scipy.optimize import least_squares\n",
    "import sympy as sp\n",
    "\n",
    "def fit_ellipse_general(x_points, y_points):\n",
    "    \"\"\"\n",
    "    Fitting ellipse với phương trình tổng quát: ax² + bxy + cy² + dx + ey + f = 0\n",
    "    Sử dụng phương pháp bình phương tối thiểu\n",
    "    \"\"\"\n",
    "    n = len(x_points)\n",
    "    \n",
    "    # Tạo ma trận A cho hệ phương trình\n",
    "    A = np.zeros((n, 6))\n",
    "    for i in range(n):\n",
    "        x, y = x_points[i], y_points[i]\n",
    "        A[i] = [x**2, x*y, y**2, x, y, 1]\n",
    "    \n",
    "    # Giải hệ phương trình bằng SVD (Singular Value Decomposition)\n",
    "    U, s, Vt = np.linalg.svd(A)\n",
    "    \n",
    "    # Nghiệm là vector riêng ứng với giá trị riêng nhỏ nhất\n",
    "    coeffs = Vt[-1, :]\n",
    "    \n",
    "    return coeffs\n",
    "\n",
    "def ellipse_parameters(coeffs):\n",
    "    \"\"\"\n",
    "    Chuyển đổi từ dạng tổng quát sang dạng tham số của ellipse\n",
    "    \"\"\"\n",
    "    a, b, c, d, e, f = coeffs\n",
    "    \n",
    "    # Tính tâm ellipse\n",
    "    det = b**2 - 4*a*c\n",
    "    if abs(det) < 1e-10:\n",
    "        return None  # Không phải ellipse\n",
    "    \n",
    "    x0 = (2*c*d - b*e) / det\n",
    "    y0 = (2*a*e - b*d) / det\n",
    "    \n",
    "    # Tính các tham số khác\n",
    "    num = 2*(a*e**2 + c*d**2 + f*b**2 - 2*b*d*e - 4*a*c*f)\n",
    "    den1 = (det) * (np.sqrt((a-c)**2 + b**2) - (a+c))\n",
    "    den2 = (det) * (-np.sqrt((a-c)**2 + b**2) - (a+c))\n",
    "    \n",
    "    if den1 > 0 and den2 > 0:\n",
    "        semi_major = np.sqrt(num / den1)\n",
    "        semi_minor = np.sqrt(num / den2)\n",
    "    else:\n",
    "        return None\n",
    "    \n",
    "    # Góc xoay\n",
    "    if abs(b) < 1e-10:\n",
    "        angle = 0 if a < c else np.pi/2\n",
    "    else:\n",
    "        angle = 0.5 * np.arctan(b / (a - c))\n",
    "    \n",
    "    return x0, y0, semi_major, semi_minor, angle\n",
    "\n",
    "def generate_ellipse_points(x0, y0, a, b, angle, n_points=100):\n",
    "    \"\"\"\n",
    "    Tạo các điểm trên ellipse\n",
    "    \"\"\"\n",
    "    t = np.linspace(0, 2*np.pi, n_points)\n",
    "    \n",
    "    # Ellipse trong hệ tọa độ địa phương\n",
    "    x_local = a * np.cos(t)\n",
    "    y_local = b * np.sin(t)\n",
    "    \n",
    "    # Xoay và dịch chuyển\n",
    "    cos_angle = np.cos(angle)\n",
    "    sin_angle = np.sin(angle)\n",
    "    \n",
    "    x = x0 + x_local * cos_angle - y_local * sin_angle\n",
    "    y = y0 + x_local * sin_angle + y_local * cos_angle\n",
    "    \n",
    "    return x, y\n",
    "\n",
    "# Ví dụ: Mô phỏng quỹ đạo hành tinh\n",
    "print(\"=== TÍNH QUỸ ĐẠO CỦA HÀNH TINH/VỆ TINH ===\")\n",
    "print(\"Sử dụng phương pháp fitting ellipse với dữ liệu quan sát\")\n",
    "\n",
    "# Tạo dữ liệu mẫu (giả lập quan sát quỹ đạo)\n",
    "np.random.seed(42)\n",
    "true_x0, true_y0 = 2, 1  # Tâm ellipse\n",
    "true_a, true_b = 5, 3    # Bán trục lớn và nhỏ\n",
    "true_angle = np.pi/6     # Góc xoay\n",
    "\n",
    "# Tạo điểm quan sát với nhiễu\n",
    "n_obs = 20\n",
    "t_obs = np.sort(np.random.uniform(0, 2*np.pi, n_obs))\n",
    "x_true, y_true = generate_ellipse_points(true_x0, true_y0, true_a, true_b, true_angle, n_obs)\n",
    "\n",
    "# Thêm nhiễu quan sát\n",
    "noise_level = 0.2\n",
    "x_obs = x_true + np.random.normal(0, noise_level, n_obs)\n",
    "y_obs = y_true + np.random.normal(0, noise_level, n_obs)\n",
    "\n",
    "print(f\"\\nSố điểm quan sát: {n_obs}\")\n",
    "print(\"Dữ liệu quan sát (x, y):\")\n",
    "for i in range(min(5, n_obs)):\n",
    "    print(f\"  Điểm {i+1}: ({x_obs[i]:.3f}, {y_obs[i]:.3f})\")\n",
    "print(\"  ...\")\n",
    "\n",
    "# Tạo ma trận hệ phương trình như trong đề bài\n",
    "print(f\"\\nMa trận hệ phương trình A (6 điểm đầu):\")\n",
    "A_matrix = np.zeros((min(6, n_obs), 6))\n",
    "for i in range(min(6, n_obs)):\n",
    "    x, y = x_obs[i], y_obs[i]\n",
    "    A_matrix[i] = [x**2, x*y, y**2, x, y, 1]\n",
    "\n",
    "print(\"     x²      xy      y²       x       y       1\")\n",
    "for i in range(min(6, n_obs)):\n",
    "    print(f\"{A_matrix[i, 0]:8.3f} {A_matrix[i, 1]:8.3f} {A_matrix[i, 2]:8.3f} {A_matrix[i, 3]:8.3f} {A_matrix[i, 4]:8.3f} {A_matrix[i, 5]:8.3f}\")\n",
    "\n",
    "# Fitting ellipse\n",
    "coeffs = fit_ellipse_general(x_obs, y_obs)\n",
    "print(f\"\\nHệ số ellipse tìm được:\")\n",
    "print(f\"a = {coeffs[0]:.6f}\")\n",
    "print(f\"b = {coeffs[1]:.6f}\") \n",
    "print(f\"c = {coeffs[2]:.6f}\")\n",
    "print(f\"d = {coeffs[3]:.6f}\")\n",
    "print(f\"e = {coeffs[4]:.6f}\")\n",
    "print(f\"f = {coeffs[5]:.6f}\")\n",
    "\n",
    "print(f\"\\nPhương trình ellipse:\")\n",
    "print(f\"{coeffs[0]:.3f}x² + {coeffs[1]:.3f}xy + {coeffs[2]:.3f}y² + {coeffs[3]:.3f}x + {coeffs[4]:.3f}y + {coeffs[5]:.3f} = 0\")\n",
    "\n",
    "# Tính tham số ellipse\n",
    "params = ellipse_parameters(coeffs)\n",
    "if params:\n",
    "    x0, y0, semi_major, semi_minor, angle = params\n",
    "    print(f\"\\nTham số ellipse:\")\n",
    "    print(f\"Tâm: ({x0:.3f}, {y0:.3f})\")\n",
    "    print(f\"Bán trục lớn: {max(semi_major, semi_minor):.3f}\")\n",
    "    print(f\"Bán trục nhỏ: {min(semi_major, semi_minor):.3f}\")\n",
    "    print(f\"Góc xoay: {angle*180/np.pi:.1f}°\")\n",
    "    \n",
    "    # Vẽ đồ thị\n",
    "    plt.figure(figsize=(10, 8))\n",
    "    \n",
    "    # Vẽ điểm quan sát\n",
    "    plt.scatter(x_obs, y_obs, color='red', s=50, label='Điểm quan sát', zorder=3)\n",
    "    \n",
    "    # Vẽ ellipse fitting\n",
    "    x_fit, y_fit = generate_ellipse_points(x0, y0, max(semi_major, semi_minor), \n",
    "                                         min(semi_major, semi_minor), angle, 200)\n",
    "    plt.plot(x_fit, y_fit, 'b-', linewidth=2, label='Ellipse fitting')\n",
    "    \n",
    "    # Vẽ ellipse thực (để so sánh)\n",
    "    x_true_full, y_true_full = generate_ellipse_points(true_x0, true_y0, true_a, true_b, true_angle, 200)\n",
    "    plt.plot(x_true_full, y_true_full, 'g--', linewidth=2, label='Ellipse thực', alpha=0.7)\n",
    "    \n",
    "    # Vẽ tâm\n",
    "    plt.plot(x0, y0, 'bo', markersize=8, label=f'Tâm fitting ({x0:.2f}, {y0:.2f})')\n",
    "    plt.plot(true_x0, true_y0, 'go', markersize=8, label=f'Tâm thực ({true_x0}, {true_y0})')\n",
    "    \n",
    "    plt.grid(True, alpha=0.3)\n",
    "    plt.axis('equal')\n",
    "    plt.legend()\n",
    "    plt.title('Fitting Quỹ Đạo Ellipse của Hành Tinh/Vệ Tinh')\n",
    "    plt.xlabel('X (đơn vị thiên văn)')\n",
    "    plt.ylabel('Y (đơn vị thiên văn)')\n",
    "    \n",
    "    plt.tight_layout()\n",
    "    plt.savefig('ellipse_orbit.png', dpi=300, bbox_inches='tight')\n",
    "    plt.show()\n",
    "    \n",
    "else:\n",
    "    print(\"Không thể xác định được tham số ellipse!\")\n",
    "\n"
   ]
  },
  {
   "attachments": {},
   "cell_type": "markdown",
   "metadata": {},
   "source": [
    "BÀI TẬP CHƯƠNG 4"
   ]
  },
  {
   "attachments": {},
   "cell_type": "markdown",
   "metadata": {},
   "source": [
    "Câu 1:"
   ]
  },
  {
   "cell_type": "code",
   "execution_count": 29,
   "metadata": {},
   "outputs": [
    {
     "name": "stdout",
     "output_type": "stream",
     "text": [
      "Ma trận A:\n",
      "[[1. 2. 3.]\n",
      " [0. 1. 4.]\n",
      " [5. 6. 0.]]\n",
      "\n",
      "Ma trận hệ số kép (Cofactor Matrix):\n",
      "[[-24.  20.  -5.]\n",
      " [ 18. -15.   4.]\n",
      " [  5.  -4.   1.]]\n",
      "\n",
      "Ma trận liên hợp (Adjoint Matrix):\n",
      "[[-24.  18.   5.]\n",
      " [ 20. -15.  -4.]\n",
      " [ -5.   4.   1.]]\n",
      "\n",
      "Ma trận nghịch đảo (sử dụng adjoint):\n",
      "[[-24.  18.   5.]\n",
      " [ 20. -15.  -4.]\n",
      " [ -5.   4.   1.]]\n",
      "\n",
      "Ma trận nghịch đảo (NumPy):\n",
      "[[-24.  18.   5.]\n",
      " [ 20. -15.  -4.]\n",
      " [ -5.   4.   1.]]\n",
      "\n",
      "Kiểm tra A * A^(-1):\n",
      "[[ 1.00000000e+00 -6.21724894e-15  8.88178420e-16]\n",
      " [ 0.00000000e+00  1.00000000e+00  0.00000000e+00]\n",
      " [ 7.10542736e-15 -2.13162821e-14  1.00000000e+00]]\n",
      "\n"
     ]
    }
   ],
   "source": [
    "import numpy as np\n",
    "import sympy as sp\n",
    "from sympy import symbols, Matrix, det, simplify\n",
    "import matplotlib.pyplot as plt\n",
    "\n",
    "def calculate_minor(matrix, i, j):\n",
    "    n = matrix.shape[0]\n",
    "    # Tạo ma trận con bằng cách bỏ hàng i và cột j\n",
    "    minor_matrix = np.delete(np.delete(matrix, i, axis=0), j, axis=1)\n",
    "    return np.linalg.det(minor_matrix)\n",
    "\n",
    "def cofactor_matrix(matrix):\n",
    "    n = matrix.shape[0]\n",
    "    cofactor_mat = np.zeros((n, n))\n",
    "    \n",
    "    for i in range(n):\n",
    "        for j in range(n):\n",
    "            # Tính minor\n",
    "            minor = calculate_minor(matrix, i, j)\n",
    "            # Cofactor = (-1)^(i+j) * minor\n",
    "            cofactor_mat[i][j] = ((-1) ** (i + j)) * minor\n",
    "    \n",
    "    return cofactor_mat\n",
    "\n",
    "def adjoint_matrix(matrix):\n",
    "    # Ma trận liên hợp = chuyển vị của ma trận hệ số kép\n",
    "    cofactor_mat = cofactor_matrix(matrix)\n",
    "    return cofactor_mat.T\n",
    "\n",
    "def matrix_inverse_using_adjoint(matrix):\n",
    "    det_A = np.linalg.det(matrix)\n",
    "    if abs(det_A) < 1e-10:\n",
    "        print(\"Ma trận không khả nghịch (định thức = 0)\")\n",
    "        return None\n",
    "    \n",
    "    adj_A = adjoint_matrix(matrix)\n",
    "    return adj_A / det_A\n",
    "\n",
    "# Test câu 1\n",
    "# Ví dụ ma trận 3x3\n",
    "A = np.array([[1, 2, 3],\n",
    "              [0, 1, 4], \n",
    "              [5, 6, 0]], dtype=float)\n",
    "\n",
    "print(\"Ma trận A:\")\n",
    "print(A)\n",
    "print()\n",
    "\n",
    "# Tính ma trận hệ số kép\n",
    "cofactor_A = cofactor_matrix(A)\n",
    "print(\"Ma trận hệ số kép (Cofactor Matrix):\")\n",
    "print(cofactor_A)\n",
    "print()\n",
    "\n",
    "# Tính ma trận liên hợp\n",
    "adj_A = adjoint_matrix(A)\n",
    "print(\"Ma trận liên hợp (Adjoint Matrix):\")\n",
    "print(adj_A)\n",
    "print()\n",
    "\n",
    "# Tính ma trận nghịch đảo\n",
    "inv_A = matrix_inverse_using_adjoint(A)\n",
    "print(\"Ma trận nghịch đảo (sử dụng adjoint):\")\n",
    "print(inv_A)\n",
    "print()\n",
    "\n",
    "# Kiểm tra với numpy\n",
    "inv_A_numpy = np.linalg.inv(A)\n",
    "print(\"Ma trận nghịch đảo (NumPy):\")\n",
    "print(inv_A_numpy)\n",
    "print()\n",
    "\n",
    "# Kiểm tra A * A^(-1) = I\n",
    "print(\"Kiểm tra A * A^(-1):\")\n",
    "print(np.dot(A, inv_A))\n",
    "print()"
   ]
  },
  {
   "attachments": {},
   "cell_type": "markdown",
   "metadata": {},
   "source": [
    "Câu 2:"
   ]
  },
  {
   "cell_type": "code",
   "execution_count": 32,
   "metadata": {},
   "outputs": [
    {
     "name": "stdout",
     "output_type": "stream",
     "text": [
      "Ba điểm đã cho:\n",
      "P1(1, 1)\n",
      "P2(4, 2)\n",
      "P3(3, 5)\n",
      "\n"
     ]
    }
   ],
   "source": [
    "def circle_through_three_points(x1, y1, x2, y2, x3, y3):\n",
    "    # Định nghĩa biến symbolic\n",
    "    x, y = symbols('x y')\n",
    "    \n",
    "    # Tạo ma trận định thức\n",
    "    matrix = Matrix([\n",
    "        [x**2 + y**2, x, y, 1],\n",
    "        [x1**2 + y1**2, x1, y1, 1],\n",
    "        [x2**2 + y2**2, x2, y2, 1],\n",
    "        [x3**2 + y3**2, x3, y3, 1]\n",
    "    ])\n",
    "    \n",
    "    # Tính định thức\n",
    "    circle_eq = det(matrix)\n",
    "    circle_eq = simplify(circle_eq)\n",
    "    \n",
    "    return circle_eq, x, y\n",
    "\n",
    "def extract_circle_parameters(circle_eq, x, y):\n",
    "    # Khai triển phương trình\n",
    "    expanded = sp.expand(circle_eq)\n",
    "    \n",
    "    # Thu thập hệ số\n",
    "    coeffs = sp.Poly(expanded, [x, y]).all_coeffs()\n",
    "    \n",
    "    \n",
    "    # Chia phương trình cho hệ số của x² để chuẩn hóa\n",
    "    print(\"Phương trình đường tròn:\")\n",
    "    print(f\"{circle_eq} = 0\")\n",
    "    \n",
    "    return expanded\n",
    "\n",
    "def plot_circle_and_points(x1, y1, x2, y2, x3, y3, center_x=None, center_y=None, radius=None):\n",
    "    plt.figure(figsize=(10, 8))\n",
    "    \n",
    "    # Vẽ các điểm đã cho\n",
    "    plt.plot([x1, x2, x3], [y1, y2, y3], 'ro', markersize=8, label='Điểm đã cho')\n",
    "    plt.annotate(f'P1({x1},{y1})', (x1, y1), xytext=(5, 5), textcoords='offset points')\n",
    "    plt.annotate(f'P2({x2},{y2})', (x2, y2), xytext=(5, 5), textcoords='offset points')\n",
    "    plt.annotate(f'P3({x3},{y3})', (x3, y3), xytext=(5, 5), textcoords='offset points')\n",
    "    \n",
    "    if center_x is not None and center_y is not None and radius is not None:\n",
    "        # Vẽ đường tròn\n",
    "        theta = np.linspace(0, 2*np.pi, 100)\n",
    "        circle_x = center_x + radius * np.cos(theta)\n",
    "        circle_y = center_y + radius * np.sin(theta)\n",
    "        plt.plot(circle_x, circle_y, 'b-', linewidth=2, label='Đường tròn')\n",
    "        \n",
    "        # Vẽ tâm\n",
    "        plt.plot(center_x, center_y, 'g*', markersize=10, label=f'Tâm ({center_x:.2f},{center_y:.2f})')\n",
    "    \n",
    "    plt.grid(True, alpha=0.3)\n",
    "    plt.axis('equal')\n",
    "    plt.legend()\n",
    "    plt.title('Đường tròn đi qua 3 điểm')\n",
    "    plt.xlabel('x')\n",
    "    plt.ylabel('y')\n",
    "    plt.show()\n",
    "\n",
    "# Test câu 2\n",
    "# Ví dụ với 3 điểm\n",
    "x1, y1 = 1, 1\n",
    "x2, y2 = 4, 2\n",
    "x3, y3 = 3, 5\n",
    "\n",
    "print(f\"Ba điểm đã cho:\")\n",
    "print(f\"P1({x1}, {y1})\")\n",
    "print(f\"P2({x2}, {y2})\")\n",
    "print(f\"P3({x3}, {y3})\")\n",
    "print()\n",
    "\n",
    "\n"
   ]
  }
 ],
 "metadata": {
  "kernelspec": {
   "display_name": "Python 3",
   "language": "python",
   "name": "python3"
  },
  "language_info": {
   "codemirror_mode": {
    "name": "ipython",
    "version": 3
   },
   "file_extension": ".py",
   "mimetype": "text/x-python",
   "name": "python",
   "nbconvert_exporter": "python",
   "pygments_lexer": "ipython3",
   "version": "3.11.0"
  },
  "orig_nbformat": 4,
  "vscode": {
   "interpreter": {
    "hash": "c261aea317cc0286b3b3261fbba9abdec21eaa57589985bb7a274bf54d6cc0a7"
   }
  }
 },
 "nbformat": 4,
 "nbformat_minor": 2
}
