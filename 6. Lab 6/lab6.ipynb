{
 "cells": [
  {
   "cell_type": "markdown",
   "id": "08e35716",
   "metadata": {},
   "source": [
    "LAB 6"
   ]
  },
  {
   "cell_type": "markdown",
   "id": "aafdb394",
   "metadata": {},
   "source": [
    "1.2. Tích vô hướng"
   ]
  },
  {
   "cell_type": "code",
   "execution_count": 5,
   "id": "f38bb120",
   "metadata": {},
   "outputs": [
    {
     "name": "stdout",
     "output_type": "stream",
     "text": [
      "32\n"
     ]
    }
   ],
   "source": [
    "import numpy as np \n",
    "import math\n",
    "\n",
    "a = np.array([1,2,3])\n",
    "b = np.array([4,5,6])\n",
    "tich = np.inner(a,b)\n",
    "print(tich)"
   ]
  },
  {
   "cell_type": "code",
   "execution_count": 2,
   "id": "ecda2a0e",
   "metadata": {},
   "outputs": [
    {
     "name": "stdout",
     "output_type": "stream",
     "text": [
      "32\n"
     ]
    }
   ],
   "source": [
    "print(np.dot(a,b))"
   ]
  },
  {
   "cell_type": "code",
   "execution_count": 3,
   "id": "196e86be",
   "metadata": {},
   "outputs": [
    {
     "name": "stdout",
     "output_type": "stream",
     "text": [
      "3.7416573867739413\n"
     ]
    }
   ],
   "source": [
    "a = np.array([1,2,-3])\n",
    "print(np.linalg.norm(a))"
   ]
  },
  {
   "cell_type": "code",
   "execution_count": 6,
   "id": "427ee8f5",
   "metadata": {},
   "outputs": [
    {
     "name": "stdout",
     "output_type": "stream",
     "text": [
      "6.0\n"
     ]
    }
   ],
   "source": [
    "def chuan(v,k):\n",
    "    tong = 0\n",
    "    for i in range(len(v)):\n",
    "        tong = tong + abs(v[i]**k)\n",
    "    ketqua = math.pow(tong, 1.0/k)\n",
    "    return ketqua\n",
    "\n",
    "a = np.array([1,2,-3])\n",
    "print(chuan(a,1))"
   ]
  },
  {
   "cell_type": "code",
   "execution_count": 7,
   "id": "a422cc33",
   "metadata": {},
   "outputs": [
    {
     "name": "stdout",
     "output_type": "stream",
     "text": [
      "6.0\n"
     ]
    }
   ],
   "source": [
    "print(np.linalg.norm(a,1))"
   ]
  },
  {
   "cell_type": "code",
   "execution_count": 8,
   "id": "20be9623",
   "metadata": {},
   "outputs": [
    {
     "name": "stdout",
     "output_type": "stream",
     "text": [
      "3.7416573867739413\n"
     ]
    }
   ],
   "source": [
    "print(chuan(a,2))"
   ]
  },
  {
   "cell_type": "code",
   "execution_count": 9,
   "id": "18440b6c",
   "metadata": {},
   "outputs": [
    {
     "name": "stdout",
     "output_type": "stream",
     "text": [
      "3.7416573867739413\n"
     ]
    }
   ],
   "source": [
    "print(np.linalg.norm(a,2))\n"
   ]
  },
  {
   "cell_type": "markdown",
   "id": "920da02c",
   "metadata": {},
   "source": [
    "2. "
   ]
  },
  {
   "cell_type": "code",
   "execution_count": 13,
   "id": "7ed58e77",
   "metadata": {},
   "outputs": [
    {
     "name": "stdout",
     "output_type": "stream",
     "text": [
      "MT =  [[ 5  4 -4 -9]\n",
      " [-4  3 -3  8]\n",
      " [ 3 -2 -1  6]]\n",
      "v =  [1.3 0.9 0. ]\n"
     ]
    }
   ],
   "source": [
    "import numpy as np\n",
    "m = 10\n",
    "v1 = np.array([5,-4,3])\n",
    "v2 = np.array([4,3,-2])\n",
    "v3 = np.array([-4,-3,-1])\n",
    "v4 = np.array([-9,8,6])\n",
    "mi = np.array([2,5,2,1])\n",
    "M = np.array([v1,v2,v3,v4])\n",
    "MT = M.transpose()\n",
    "print(\"MT = \",MT)\n",
    "\n",
    "v = (1.0/m)*MT.dot(mi)\n",
    "print(\"v = \",v)"
   ]
  },
  {
   "cell_type": "markdown",
   "id": "637f3d24",
   "metadata": {},
   "source": [
    "3. "
   ]
  },
  {
   "cell_type": "code",
   "execution_count": 14,
   "id": "31c52340",
   "metadata": {},
   "outputs": [
    {
     "name": "stdout",
     "output_type": "stream",
     "text": [
      "Tỷ lệ có việc làm sau 100 tuần: 0.9855072337572737\n",
      "Tỷ lệ thất nghiệp sau 100 tuần: 0.01449276624272995\n"
     ]
    }
   ],
   "source": [
    "import numpy as np\n",
    "\n",
    "# Khai báo ma trận chuyển trạng thái A\n",
    "A = np.array([[0.998, 0.136],\n",
    "              [0.002, 0.864]])\n",
    "\n",
    "# Khai báo vector trạng thái ban đầu v0\n",
    "v0 = np.array([[0.95],\n",
    "               [0.05]])\n",
    "\n",
    "# Tính A^100 sử dụng matrix_power\n",
    "A_100 = np.linalg.matrix_power(A, 100)\n",
    "\n",
    "# Tính trạng thái sau 100 tuần: v_100 = A^100 * v0\n",
    "v_100 = np.dot(A_100, v0)\n",
    "\n",
    "# In kết quả\n",
    "print(\"Tỷ lệ có việc làm sau 100 tuần:\", v_100[0, 0])\n",
    "print(\"Tỷ lệ thất nghiệp sau 100 tuần:\", v_100[1, 0])\n"
   ]
  },
  {
   "cell_type": "code",
   "execution_count": 15,
   "id": "bb231201",
   "metadata": {},
   "outputs": [
    {
     "name": "stdout",
     "output_type": "stream",
     "text": [
      "⎧   68         ⎫\n",
      "⎨x: ──, y: 1/69⎬\n",
      "⎩   69         ⎭\n"
     ]
    }
   ],
   "source": [
    "import sympy as sym\n",
    "\n",
    "x, y = sym.symbols('x y')\n",
    "xy = sym.Matrix([x,y]) # khai báo vector: (x, y)T\n",
    "A = sym.Matrix([[1, -68],[1,1]])\n",
    "v = sym.Matrix([0, 1])\n",
    "nghiem = sym.solve([A*xy-v]) # phương trình được chuyển về 1 phía\n",
    "print(sym.pretty(nghiem)) "
   ]
  },
  {
   "cell_type": "markdown",
   "id": "d5c349be",
   "metadata": {},
   "source": [
    "3.2."
   ]
  },
  {
   "cell_type": "code",
   "execution_count": 16,
   "id": "5b362d72",
   "metadata": {},
   "outputs": [
    {
     "name": "stdout",
     "output_type": "stream",
     "text": [
      "[-7.000, 3.000]\n",
      "[-7, 3]\n"
     ]
    }
   ],
   "source": [
    "import sympy\n",
    "x, y, Lambda = sympy.symbols('x y Lambda')\n",
    "I = sympy.eye(2)\n",
    "A = sympy.Matrix([[2,3],[3,-6]])\n",
    "phuongtrinh = sympy.Eq(sympy.det(Lambda*I-A), 0)\n",
    "nghiem = sympy.solve(phuongtrinh)\n",
    "print([sympy.N(phantu,4) for phantu in nghiem])\n",
    "\n",
    "print (sympy.pretty(nghiem))"
   ]
  },
  {
   "cell_type": "markdown",
   "id": "6f12ba2c",
   "metadata": {},
   "source": [
    "3.3."
   ]
  },
  {
   "cell_type": "code",
   "execution_count": 19,
   "id": "3681091e",
   "metadata": {},
   "outputs": [
    {
     "name": "stdout",
     "output_type": "stream",
     "text": [
      "P1 =  [[-0.3  0.9]\n",
      " [ 0.3  0.1]]\n",
      "A.dot =  [[ 2.33333333  9.        ]\n",
      " [-7.          3.        ]]\n",
      "P.dot =  [[ 2.33333333  9.        ]\n",
      " [-7.          3.        ]]\n",
      "[[-6.25396533e+08 -3.52488701e+08]\n",
      " [-3.52488701e+08  3.14573335e+08]]\n",
      "D^2 =  [[49  0]\n",
      " [ 0  9]]\n"
     ]
    }
   ],
   "source": [
    "A = np.array([[2,3],[3,-6]])\n",
    "D = np.array([[-7,0],[0,3]])\n",
    "P = np.array([[-1.0/3, 3],[1,1]])\n",
    "from numpy import linalg\n",
    "from numpy import linalg as LA\n",
    "P1 = LA.inv(P) # tính giá trị nghịch đảo của P\n",
    "print (\"P1 = \",P1)\n",
    "\n",
    "print(\"A.dot = \",A.dot(P))\n",
    "print(\"P.dot = \",P.dot(D))\n",
    "\n",
    "print(P @ (D ** 1000) @ P1)\n",
    "\n",
    "print(\"D^2 = \", D**2)"
   ]
  },
  {
   "cell_type": "markdown",
   "id": "6a5caaa1",
   "metadata": {},
   "source": [
    "BÀI TẬP CHƯƠNG"
   ]
  },
  {
   "cell_type": "markdown",
   "id": "69135c6b",
   "metadata": {},
   "source": [
    "BÀI 2 "
   ]
  },
  {
   "cell_type": "code",
   "execution_count": null,
   "id": "9d776b09",
   "metadata": {},
   "outputs": [],
   "source": [
    "# a\n",
    "\n",
    "import numpy as np\n",
    "\n",
    "u = np.array([1, 2, 3])\n",
    "v = np.array([4, 5, 6])\n",
    "\n",
    "distance = np.linalg.norm(u - v)\n",
    "print(\"Khoảng cách giữa u và v:\", distance)\n"
   ]
  },
  {
   "cell_type": "code",
   "execution_count": 20,
   "id": "b6e23fa5",
   "metadata": {},
   "outputs": [
    {
     "name": "stdout",
     "output_type": "stream",
     "text": [
      "Góc θ (radian): 0.2257261285527342\n",
      "Góc θ (độ): 12.933154491899135\n"
     ]
    }
   ],
   "source": [
    "# b\n",
    "import numpy as np\n",
    "\n",
    "u = np.array([1, 2, 3])\n",
    "v = np.array([4, 5, 6])\n",
    "\n",
    "cos_theta = np.dot(u, v) / (np.linalg.norm(u) * np.linalg.norm(v))\n",
    "theta_rad = np.arccos(cos_theta)\n",
    "\n",
    "print(\"Góc θ (radian):\", theta_rad)\n",
    "print(\"Góc θ (độ):\", np.degrees(theta_rad))\n"
   ]
  },
  {
   "cell_type": "code",
   "execution_count": 21,
   "id": "b8d90510",
   "metadata": {},
   "outputs": [
    {
     "name": "stdout",
     "output_type": "stream",
     "text": [
      "Phép chiếu của u lên v là vector: [1.66233766 2.07792208 2.49350649]\n"
     ]
    }
   ],
   "source": [
    "# c\n",
    "import numpy as np\n",
    "\n",
    "u = np.array([1, 2, 3])\n",
    "v = np.array([4, 5, 6])\n",
    "\n",
    "projection_scalar = np.dot(u, v) / np.dot(v, v)\n",
    "p = projection_scalar * v\n",
    "\n",
    "print(\"Phép chiếu của u lên v là vector:\", p)\n"
   ]
  }
 ],
 "metadata": {
  "kernelspec": {
   "display_name": "Python 3",
   "language": "python",
   "name": "python3"
  },
  "language_info": {
   "codemirror_mode": {
    "name": "ipython",
    "version": 3
   },
   "file_extension": ".py",
   "mimetype": "text/x-python",
   "name": "python",
   "nbconvert_exporter": "python",
   "pygments_lexer": "ipython3",
   "version": "3.11.9"
  }
 },
 "nbformat": 4,
 "nbformat_minor": 5
}
