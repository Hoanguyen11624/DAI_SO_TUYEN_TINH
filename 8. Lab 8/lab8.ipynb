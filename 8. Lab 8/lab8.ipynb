{
 "cells": [
  {
   "cell_type": "code",
   "execution_count": 2,
   "id": "f4370ffb",
   "metadata": {},
   "outputs": [
    {
     "name": "stdout",
     "output_type": "stream",
     "text": [
      "x =  [ 18 -11   9  -8]\n",
      "x1 =  [ 9.  -5.5  4.5 -4. ]\n"
     ]
    }
   ],
   "source": [
    "import numpy as np\n",
    "#a\n",
    "u = np.array([2,-1,5,0])\n",
    "v = np.array([4,3,1,-1])\n",
    "w = np.array([-6,2,0,3])\n",
    "x = 2*u-(v+3*w)\n",
    "print(\"x = \",x)\n",
    "\n",
    "#b \n",
    "x1 = 0.5*(2*u-v-3*w)\n",
    "print(\"x1 = \",x1)"
   ]
  },
  {
   "cell_type": "markdown",
   "id": "deef89b6",
   "metadata": {},
   "source": [
    "Bài toán 2"
   ]
  },
  {
   "cell_type": "code",
   "execution_count": 3,
   "id": "0dcb2ad6",
   "metadata": {},
   "outputs": [
    {
     "name": "stdout",
     "output_type": "stream",
     "text": [
      "X =  [ 1. -2. -1.]\n"
     ]
    }
   ],
   "source": [
    "from numpy import linalg\n",
    "A = np.matrix([[0,-1,3],[1,1,1],[4,2,2]])\n",
    "B = np.array([-1,-2,-2])\n",
    "X = np.linalg.solve(A,B)\n",
    "print(\"X = \",X)"
   ]
  },
  {
   "cell_type": "markdown",
   "id": "737575c5",
   "metadata": {},
   "source": [
    "Bai toan 3"
   ]
  },
  {
   "cell_type": "code",
   "execution_count": 4,
   "id": "242ec890",
   "metadata": {},
   "outputs": [
    {
     "ename": "LinAlgError",
     "evalue": "Singular matrix",
     "output_type": "error",
     "traceback": [
      "\u001b[31m---------------------------------------------------------------------------\u001b[39m",
      "\u001b[31mLinAlgError\u001b[39m                               Traceback (most recent call last)",
      "\u001b[36mCell\u001b[39m\u001b[36m \u001b[39m\u001b[32mIn[4]\u001b[39m\u001b[32m, line 5\u001b[39m\n\u001b[32m      2\u001b[39m B1 = np.matrix([[\u001b[32m0\u001b[39m,\u001b[32m0\u001b[39m],[\u001b[32m0\u001b[39m,\u001b[32m1\u001b[39m]])\n\u001b[32m      3\u001b[39m \u001b[38;5;28;01mfrom\u001b[39;00m\u001b[38;5;250m \u001b[39m\u001b[34;01mnumpy\u001b[39;00m\u001b[38;5;250m \u001b[39m\u001b[38;5;28;01mimport\u001b[39;00m linalg \u001b[38;5;28;01mas\u001b[39;00m LA \n\u001b[32m----> \u001b[39m\u001b[32m5\u001b[39m \u001b[38;5;28mprint\u001b[39m(\u001b[43mLA\u001b[49m\u001b[43m.\u001b[49m\u001b[43minv\u001b[49m\u001b[43m(\u001b[49m\u001b[43mA1\u001b[49m\u001b[43m)\u001b[49m)\n\u001b[32m      6\u001b[39m \u001b[38;5;28mprint\u001b[39m(LA.inv(B1))\n\u001b[32m      7\u001b[39m \u001b[38;5;28mprint\u001b[39m(LA.inv(A1+B1))\n",
      "\u001b[36mFile \u001b[39m\u001b[32m~\\AppData\\Local\\Packages\\PythonSoftwareFoundation.Python.3.11_qbz5n2kfra8p0\\LocalCache\\local-packages\\Python311\\site-packages\\numpy\\linalg\\linalg.py:561\u001b[39m, in \u001b[36minv\u001b[39m\u001b[34m(a)\u001b[39m\n\u001b[32m    559\u001b[39m signature = \u001b[33m'\u001b[39m\u001b[33mD->D\u001b[39m\u001b[33m'\u001b[39m \u001b[38;5;28;01mif\u001b[39;00m isComplexType(t) \u001b[38;5;28;01melse\u001b[39;00m \u001b[33m'\u001b[39m\u001b[33md->d\u001b[39m\u001b[33m'\u001b[39m\n\u001b[32m    560\u001b[39m extobj = get_linalg_error_extobj(_raise_linalgerror_singular)\n\u001b[32m--> \u001b[39m\u001b[32m561\u001b[39m ainv = \u001b[43m_umath_linalg\u001b[49m\u001b[43m.\u001b[49m\u001b[43minv\u001b[49m\u001b[43m(\u001b[49m\u001b[43ma\u001b[49m\u001b[43m,\u001b[49m\u001b[43m \u001b[49m\u001b[43msignature\u001b[49m\u001b[43m=\u001b[49m\u001b[43msignature\u001b[49m\u001b[43m,\u001b[49m\u001b[43m \u001b[49m\u001b[43mextobj\u001b[49m\u001b[43m=\u001b[49m\u001b[43mextobj\u001b[49m\u001b[43m)\u001b[49m\n\u001b[32m    562\u001b[39m \u001b[38;5;28;01mreturn\u001b[39;00m wrap(ainv.astype(result_t, copy=\u001b[38;5;28;01mFalse\u001b[39;00m))\n",
      "\u001b[36mFile \u001b[39m\u001b[32m~\\AppData\\Local\\Packages\\PythonSoftwareFoundation.Python.3.11_qbz5n2kfra8p0\\LocalCache\\local-packages\\Python311\\site-packages\\numpy\\linalg\\linalg.py:112\u001b[39m, in \u001b[36m_raise_linalgerror_singular\u001b[39m\u001b[34m(err, flag)\u001b[39m\n\u001b[32m    111\u001b[39m \u001b[38;5;28;01mdef\u001b[39;00m\u001b[38;5;250m \u001b[39m\u001b[34m_raise_linalgerror_singular\u001b[39m(err, flag):\n\u001b[32m--> \u001b[39m\u001b[32m112\u001b[39m     \u001b[38;5;28;01mraise\u001b[39;00m LinAlgError(\u001b[33m\"\u001b[39m\u001b[33mSingular matrix\u001b[39m\u001b[33m\"\u001b[39m)\n",
      "\u001b[31mLinAlgError\u001b[39m: Singular matrix"
     ]
    }
   ],
   "source": [
    "A1 = np.matrix([[1,0],[0,0]])\n",
    "B1 = np.matrix([[0,0],[0,1]])\n",
    "from numpy import linalg as LA \n",
    "\n",
    "print(LA.inv(A1))\n",
    "print(LA.inv(B1))\n",
    "print(LA.inv(A1+B1))\n",
    "print(LA.det(A1))\n",
    "print(LA.det(B1))\n",
    "print(LA.det(A1+B1))\n",
    "\n",
    "\n"
   ]
  },
  {
   "cell_type": "markdown",
   "id": "0017352f",
   "metadata": {},
   "source": [
    "Bai toan 4"
   ]
  },
  {
   "cell_type": "code",
   "execution_count": null,
   "id": "06bf25b0",
   "metadata": {},
   "outputs": [],
   "source": [
    "import sympy as sp \n",
    "x, y = sp.symbols('x y') # khai báo 2 biến x và y\n",
    "A = sp.Matrix([[x, y],[y, x]]) # lưu ý: kiểu ma trận của sympy là ‘Matrix’ (viết hoa)\n",
    "x1, y1 = sp.symbols('x1 y1')\n",
    "A1 = sp.Matrix([[x1, y1],[y1, x1]])\n",
    "x2, y2 = sp.symbols('x2 y2')\n",
    "A2 = sp.Matrix([[x2, y2],[y2, x2]])\n",
    "print(A1.T)\n",
    "print(A1+A2).T\n",
    "print(((A1+A2).T).equals(A1+A2))\n",
    "c = sp.symbols('c')\n",
    "print (c*A)\n",
    "print(((c*A).T).equals(c*A))"
   ]
  },
  {
   "cell_type": "markdown",
   "id": "c0bb5f22",
   "metadata": {},
   "source": [
    "Bai toan 5"
   ]
  },
  {
   "cell_type": "code",
   "execution_count": 5,
   "id": "6eee0449",
   "metadata": {},
   "outputs": [
    {
     "name": "stdout",
     "output_type": "stream",
     "text": [
      "a. w1 là tổ hợp tuyến tính: True\n",
      "b. w2 là tổ hợp tuyến tính: False\n"
     ]
    }
   ],
   "source": [
    "import numpy as np\n",
    "\n",
    "# Các vector cơ sở\n",
    "v1 = np.array([1, 2, 3])\n",
    "v2 = np.array([0, 1, 2])\n",
    "v3 = np.array([-1, 0, 1])\n",
    "\n",
    "# a. Kiểm tra w = (1, 1, 1)\n",
    "w1 = np.array([1, 1, 1])\n",
    "A = np.column_stack((v1, v2, v3))\n",
    "c, residuals, rank, s = np.linalg.lstsq(A, w1, rcond=None)\n",
    "print(\"a. w1 là tổ hợp tuyến tính:\", np.allclose(A @ c, w1))\n",
    "\n",
    "# b. Kiểm tra w = (1, -2, 2)\n",
    "w2 = np.array([1, -2, 2])\n",
    "c, residuals, rank, s = np.linalg.lstsq(A, w2, rcond=None)\n",
    "print(\"b. w2 là tổ hợp tuyến tính:\", np.allclose(A @ c, w2))\n"
   ]
  },
  {
   "cell_type": "markdown",
   "id": "d4e5a039",
   "metadata": {},
   "source": [
    "Bai toan 6"
   ]
  },
  {
   "cell_type": "code",
   "execution_count": 6,
   "id": "d9c8b9c3",
   "metadata": {},
   "outputs": [
    {
     "name": "stdout",
     "output_type": "stream",
     "text": [
      "Nghiệm của hệ là: {c1: 0, c2: 0, c3: 0}\n"
     ]
    }
   ],
   "source": [
    "import sympy as sp\n",
    "\n",
    "# Khai báo 3 ẩn\n",
    "c1, c2, c3 = sp.symbols('c1 c2 c3')\n",
    "\n",
    "# Các vector v1 = (1,2,3), v2 = (0,1,2), v3 = (-2,0,1)\n",
    "# Giải hệ: c1*v1 + c2*v2 + c3*v3 = 0\n",
    "eq1 = c1 + 0*c2 + (-2)*c3\n",
    "eq2 = 2*c1 + 1*c2 + 0*c3\n",
    "eq3 = 3*c1 + 2*c2 + 1*c3\n",
    "\n",
    "# Giải hệ phương trình\n",
    "solution = sp.solve([eq1, eq2, eq3], (c1, c2, c3))\n",
    "print(\"Nghiệm của hệ là:\", solution)\n"
   ]
  },
  {
   "cell_type": "markdown",
   "id": "aa630435",
   "metadata": {},
   "source": [
    "Baitoan7"
   ]
  },
  {
   "cell_type": "code",
   "execution_count": 7,
   "id": "19067a24",
   "metadata": {},
   "outputs": [
    {
     "name": "stdout",
     "output_type": "stream",
     "text": [
      "{c1: u1/2 + u2/2, c2: u1/2 - u2/2}\n",
      "{c1: 0, c2: 0}\n"
     ]
    }
   ],
   "source": [
    "c1, c2 = sp.symbols('c1 c2')\n",
    "u1, u2 = sp.symbols('u1 u2')\n",
    "print(sp.solve([c1+c2-u1,c1-c2-u2]))\n",
    "\n",
    "u1 = 0\n",
    "u2 = 0\n",
    "print(sp.solve([c1+c2-u1,c1-c2-u2]))"
   ]
  },
  {
   "cell_type": "markdown",
   "id": "c1b880b0",
   "metadata": {},
   "source": [
    "II."
   ]
  },
  {
   "cell_type": "code",
   "execution_count": 13,
   "id": "4d0e8966",
   "metadata": {},
   "outputs": [
    {
     "name": "stdout",
     "output_type": "stream",
     "text": [
      "[[4 4 7 7 5 5 6 6 5 5]\n",
      " [2 7 7 6 6 5 5 4 4 2]]\n"
     ]
    }
   ],
   "source": [
    "#a \n",
    "import numpy as np\n",
    "\n",
    "P = np.array([[0,0,3,3,1,1,2,2,1,1],[0,5,5,4,4,3,3,2,2,0]])\n",
    "vecdelta = np.array([4,2])\n",
    "\n",
    "# Tịnh tiến điểm\n",
    "P_caua = (P.T + vecdelta).T\n",
    "print(P_caua)\n"
   ]
  },
  {
   "cell_type": "code",
   "execution_count": 12,
   "id": "4d3cd059",
   "metadata": {},
   "outputs": [
    {
     "name": "stdout",
     "output_type": "stream",
     "text": [
      "[[ 4.  4.  7.  7.  5.  5.  6.  6.  5.  5.]\n",
      " [-2.  8.  8.  6.  6.  4.  4.  2.  2. -2.]]\n"
     ]
    }
   ],
   "source": [
    "P = np.array([[0,0,3,3,1,1,2,2,1,1],[0,5,5,4,4,3,3,2,2,0]])\n",
    "vecdelta = np.array([4,-2])\n",
    "matran_biendoi = np.array([[1.0, 0.0], [0.0, 2.0]])\n",
    "\n",
    "P_caub = (P.T @ matran_biendoi + vecdelta).T\n",
    "print(P_caub)\n"
   ]
  },
  {
   "cell_type": "code",
   "execution_count": 11,
   "id": "508c8ed8",
   "metadata": {},
   "outputs": [
    {
     "name": "stdout",
     "output_type": "stream",
     "text": [
      "[[4 4 1 1 3 3 2 2 3 3]\n",
      " [2 7 7 6 6 5 5 4 4 2]]\n"
     ]
    }
   ],
   "source": [
    "P = np.array([[0,0,3,3,1,1,2,2,1,1],[0,5,5,4,4,3,3,2,2,0]])\n",
    "vecdelta = np.array([4, 2])  # dịch (0,0) sang (4,2)\n",
    "matran_doitrucy = np.array([[-1, 0], [0, 1]])\n",
    "\n",
    "P_cauc = (P.T @ matran_doitrucy + vecdelta).T\n",
    "print(P_cauc)\n"
   ]
  },
  {
   "cell_type": "code",
   "execution_count": 10,
   "id": "4cf92bc0",
   "metadata": {},
   "outputs": [
    {
     "name": "stdout",
     "output_type": "stream",
     "text": [
      "[[ 2.   2.   5.   5.   3.   3.   4.   4.   3.   3. ]\n",
      " [-1.   4.   8.5  7.5  4.5  3.5  5.   4.   2.5  0.5]]\n"
     ]
    }
   ],
   "source": [
    "P = np.array([[0,0,3,3,1,1,2,2,1,1],[0,5,5,4,4,3,3,2,2,0]])\n",
    "vecdelta = np.array([2, -1])\n",
    "matran_shear = np.array([[1, 1.5], [0, 1]])  # shearing theo trục x\n",
    "\n",
    "P_caud = (P.T @ matran_shear + vecdelta).T\n",
    "print(P_caud)\n"
   ]
  },
  {
   "cell_type": "code",
   "execution_count": 9,
   "id": "1da0e44d",
   "metadata": {},
   "outputs": [
    {
     "name": "stdout",
     "output_type": "stream",
     "text": [
      "[[ 0  0 -3 -3 -1 -1 -2 -2 -1 -1]\n",
      " [ 0  5  5  4  4  3  3  2  2  0]]\n"
     ]
    }
   ],
   "source": [
    "P = np.array([[0,0,3,3,1,1,2,2,1,1],[0,5,5,4,4,3,3,2,2,0]])\n",
    "matran_dxy0 = np.array([[-1, 0], [0, 1]])\n",
    "\n",
    "P_dxy0 = (P.T @ matran_dxy0).T\n",
    "print(P_dxy0)\n"
   ]
  },
  {
   "cell_type": "code",
   "execution_count": 8,
   "id": "0f5d0c28",
   "metadata": {},
   "outputs": [
    {
     "name": "stdout",
     "output_type": "stream",
     "text": [
      "[[0 5 5 4 4 3 3 2 2 0]\n",
      " [0 0 3 3 1 1 2 2 1 1]]\n"
     ]
    }
   ],
   "source": [
    "P = np.array([[0,0,3,3,1,1,2,2,1,1],[0,5,5,4,4,3,3,2,2,0]])\n",
    "matran_dx_y = np.array([[0, 1], [1, 0]])\n",
    "\n",
    "P_dyx = (P.T @ matran_dx_y).T\n",
    "print(P_dyx)\n"
   ]
  },
  {
   "cell_type": "markdown",
   "id": "25a020bb",
   "metadata": {},
   "source": [
    "III."
   ]
  },
  {
   "cell_type": "code",
   "execution_count": null,
   "id": "3b5d5262",
   "metadata": {},
   "outputs": [
    {
     "name": "stdout",
     "output_type": "stream",
     "text": [
      "<function _lambdifygenerated at 0x0000021539EFF600>\n"
     ]
    }
   ],
   "source": [
    "from sympy import *\n",
    "\n",
    "x1,x2,x3 = sp.symbols('x1 x2 x3')\n",
    "bieuthuc1 = x1-x2+x3\n",
    "f1 = lambdify([x1,x2,x3],bieuthuc1,'numpy')\n",
    "a,b,c = sp.symbols('a b c')\n",
    "d,e,f = sp.symbols('d e f')\n",
    "print(f1(a b c))"
   ]
  },
  {
   "cell_type": "code",
   "execution_count": 19,
   "id": "f76e44fb",
   "metadata": {},
   "outputs": [
    {
     "name": "stdout",
     "output_type": "stream",
     "text": [
      "{a: -5*x + 3*y, b: 2*x - y}\n",
      "fu =  [a + 4*b a + 2*b 2*a + b]\n",
      "fu =  [3*x - y -x + y -8*x + 5*y]\n"
     ]
    }
   ],
   "source": [
    "a,b = sp.symbols('a b')\n",
    "x,y = sp.symbols('x y')\n",
    "print(sp.solve([a+3*b-x,2*a+5*b-y],[a,b]))\n",
    "\n",
    "fu1 = np.array([1,1,2])\n",
    "fu2 = np.array([4,2,1])\n",
    "fu = a*fu1 + b*fu2\n",
    "print(\"fu = \",fu)\n",
    "\n",
    "fu = a.subs(a, -5*x + 3*y)*fu1 + b.subs(b, 2*x - y)*fu2\n",
    "print(\"fu = \",fu)"
   ]
  },
  {
   "cell_type": "code",
   "execution_count": 20,
   "id": "cef818d2",
   "metadata": {},
   "outputs": [
    {
     "name": "stdout",
     "output_type": "stream",
     "text": [
      "{x1: 2*x3, x2: -x3}\n"
     ]
    }
   ],
   "source": [
    "x1,x2,x3 = sp.symbols('x1 x2 x3')\n",
    "print(sp.solve([x1+x2-x3, 2*x1+3*x2-x3, 3*x1+5*x2-x3],[x1, x2, x3]))"
   ]
  },
  {
   "cell_type": "code",
   "execution_count": 21,
   "id": "6b60b992",
   "metadata": {},
   "outputs": [
    {
     "name": "stdout",
     "output_type": "stream",
     "text": [
      "[[-0.70710678  0.70710678]\n",
      " [ 0.70710678  0.70710678]]\n"
     ]
    }
   ],
   "source": [
    "import math\n",
    "from scipy import linalg as LA \n",
    "B = np.matrix([[1.0/math.sqrt(2),1.0/math.sqrt(2)],[-1.0/math.sqrt(2),1.0/math.sqrt(2)]])\n",
    "print(LA.orth(B))"
   ]
  },
  {
   "cell_type": "markdown",
   "id": "ec5cdf3b",
   "metadata": {},
   "source": [
    "Cau 1"
   ]
  },
  {
   "cell_type": "code",
   "execution_count": 22,
   "id": "631ac681",
   "metadata": {},
   "outputs": [
    {
     "name": "stdout",
     "output_type": "stream",
     "text": [
      "g(a*u): Matrix([[a*x + a*y], [a*z + 2], [0]])\n",
      "a * g(u): Matrix([[a*(x + y)], [a*(z + 2)], [0]])\n",
      "Là ánh xạ tuyến tính? False\n"
     ]
    }
   ],
   "source": [
    "from sympy import symbols, Matrix, simplify\n",
    "\n",
    "x, y, z = symbols('x y z')\n",
    "u = Matrix([x, y, z])\n",
    "g = Matrix([x + y, z + 2, 0])\n",
    "\n",
    "# Kiểm tra tuyến tính: g(a*u) == a*g(u)?\n",
    "a = symbols('a')\n",
    "lhs = g.subs({x: a*x, y: a*y, z: a*z})\n",
    "rhs = a * g\n",
    "print(\"g(a*u):\", lhs)\n",
    "print(\"a * g(u):\", simplify(rhs))\n",
    "\n",
    "print(\"Là ánh xạ tuyến tính?\", simplify(lhs - rhs) == Matrix([0,0,0]))\n"
   ]
  },
  {
   "cell_type": "markdown",
   "id": "54b32eb5",
   "metadata": {},
   "source": [
    "Cau 2"
   ]
  },
  {
   "cell_type": "code",
   "execution_count": null,
   "id": "ff5fd770",
   "metadata": {},
   "outputs": [],
   "source": [
    "import numpy as np\n",
    "\n",
    "# Tập điểm ví dụ F gồm các điểm (x, y)\n",
    "F = np.array([[1, 2, 3], [4, 5, 6]])  # 3 điểm: (1,4), (2,5), (3,6)\n",
    "\n",
    "# Ma trận biến đổi: f(x, y) = (y, x - y)\n",
    "# --> ứng với nhân bởi ma trận:\n",
    "mat = np.array([[0, 1], [1, -1]])\n",
    "\n",
    "F_transformed = mat @ F\n",
    "print(F_transformed)\n"
   ]
  },
  {
   "cell_type": "markdown",
   "id": "dcdc94f2",
   "metadata": {},
   "source": [
    "Cau 3"
   ]
  },
  {
   "cell_type": "code",
   "execution_count": null,
   "id": "36c886b8",
   "metadata": {},
   "outputs": [],
   "source": [
    "from sympy import symbols, Matrix\n",
    "\n",
    "v1, v2 = symbols('v1 v2')\n",
    "v = Matrix([v1, v2])\n",
    "T = Matrix([v1 - v2, v1 + 2*v2])\n",
    "\n",
    "a = symbols('a')\n",
    "\n",
    "# Kiểm tra T(a * v) == a * T(v)?\n",
    "lhs = T.subs({v1: a*v1, v2: a*v2})\n",
    "rhs = a * T\n",
    "\n",
    "print(\"Là ánh xạ tuyến tính?\", simplify(lhs - rhs) == Matrix([0,0]))\n"
   ]
  }
 ],
 "metadata": {
  "kernelspec": {
   "display_name": "Python 3",
   "language": "python",
   "name": "python3"
  },
  "language_info": {
   "codemirror_mode": {
    "name": "ipython",
    "version": 3
   },
   "file_extension": ".py",
   "mimetype": "text/x-python",
   "name": "python",
   "nbconvert_exporter": "python",
   "pygments_lexer": "ipython3",
   "version": "3.11.9"
  }
 },
 "nbformat": 4,
 "nbformat_minor": 5
}
